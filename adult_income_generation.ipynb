{
 "cells": [
  {
   "cell_type": "code",
   "execution_count": 1,
   "id": "7d3cdb90",
   "metadata": {},
   "outputs": [],
   "source": [
    "import numpy as np\n",
    "import pandas as pd\n",
    "import tensorflow as tf\n",
    "\n",
    "from tensorflow import keras\n",
    "from keras.optimizers import Adam\n",
    "\n",
    "from matplotlib import pyplot as plt\n",
    "from wasserstein_loss import wasserstein_generator_loss, wasserstein_discriminator_loss\n",
    "from tabular_wgan_gp import tabularWGANGP\n",
    "from tabular_discriminator import build_discriminator\n",
    "from tabular_generator import build_generator"
   ]
  },
  {
   "cell_type": "code",
   "execution_count": 2,
   "id": "67ba363e",
   "metadata": {},
   "outputs": [],
   "source": [
    "import warnings\n",
    "warnings.filterwarnings('ignore')"
   ]
  },
  {
   "cell_type": "markdown",
   "id": "c49f18c1",
   "metadata": {},
   "source": [
    "## Building the model"
   ]
  },
  {
   "cell_type": "code",
   "execution_count": 3,
   "id": "7722cfe8",
   "metadata": {},
   "outputs": [],
   "source": [
    "latent_dim = 32\n",
    "out_shape = 14\n",
    "num_classes = 2"
   ]
  },
  {
   "cell_type": "code",
   "execution_count": 4,
   "id": "f353e49a",
   "metadata": {},
   "outputs": [],
   "source": [
    "generator = build_generator(latent_dim = latent_dim, num_classes = num_classes, out_shape = out_shape, layers_dim=[128,256,512,1024])"
   ]
  },
  {
   "cell_type": "code",
   "execution_count": 5,
   "id": "bcaf5c4b",
   "metadata": {},
   "outputs": [],
   "source": [
    "discriminator = build_discriminator(out_shape = out_shape, num_classes = num_classes, layers_dim=[1024,512,256,128])"
   ]
  },
  {
   "cell_type": "code",
   "execution_count": 6,
   "id": "72bcda90",
   "metadata": {},
   "outputs": [],
   "source": [
    "model = tabularWGANGP(generator, discriminator, latent_dim = latent_dim, out_shape = out_shape)\n",
    "model.compile(    \n",
    "    discriminator_optimizer=Adam(learning_rate=2e-4,beta_1=0.5,beta_2=0.9),\n",
    "    generator_optimizer=Adam(learning_rate=2e-4,beta_1=0.5,beta_2=0.9),\n",
    "    discriminator_loss = wasserstein_discriminator_loss,\n",
    "    generator_loss = wasserstein_generator_loss\n",
    ")"
   ]
  },
  {
   "cell_type": "markdown",
   "id": "6f9c9aeb",
   "metadata": {},
   "source": [
    "## Reading and preprocessing the data"
   ]
  },
  {
   "cell_type": "code",
   "execution_count": 7,
   "id": "da50fc5e",
   "metadata": {},
   "outputs": [],
   "source": [
    "df = pd.read_csv('data/original/adult.csv')"
   ]
  },
  {
   "cell_type": "code",
   "execution_count": 8,
   "id": "9060ef87",
   "metadata": {},
   "outputs": [],
   "source": [
    "# encode categorical features into numbers\n",
    "from sklearn import preprocessing\n",
    "le = preprocessing.LabelEncoder()\n",
    "for i in ['workclass','education','marital.status','occupation','relationship','race','sex','native.country','income']:\n",
    "    df[i] = le.fit_transform(df[i].astype(str))"
   ]
  },
  {
   "cell_type": "code",
   "execution_count": 9,
   "id": "a54e923f",
   "metadata": {},
   "outputs": [],
   "source": [
    "from sklearn.model_selection import train_test_split\n",
    "y = df[\"income\"].values\n",
    "X = df.drop([\"income\"],1)\n",
    "scaler = preprocessing.StandardScaler()\n",
    "X = scaler.fit_transform(X)\n",
    "X_train, X_test, y_train, y_test = train_test_split(X, y, test_size=0.2)"
   ]
  },
  {
   "cell_type": "markdown",
   "id": "fc4860d0",
   "metadata": {},
   "source": [
    "## Training the model"
   ]
  },
  {
   "cell_type": "code",
   "execution_count": 10,
   "id": "1c9d85fe",
   "metadata": {},
   "outputs": [],
   "source": [
    "# setting up constants\n",
    "epochs = 100\n",
    "batch_size = 32"
   ]
  },
  {
   "cell_type": "code",
   "execution_count": 11,
   "id": "ac3e1d40",
   "metadata": {},
   "outputs": [],
   "source": [
    "y_train = keras.utils.to_categorical(y_train,num_classes)\n",
    "dataset = tf.data.Dataset.from_tensor_slices((X_train,y_train))\n",
    "dataset = dataset.shuffle(buffer_size=1024).batch(batch_size)"
   ]
  },
  {
   "cell_type": "code",
   "execution_count": 12,
   "id": "5ef0a2fe",
   "metadata": {},
   "outputs": [
    {
     "name": "stdout",
     "output_type": "stream",
     "text": [
      "Epoch 1/100\n",
      "814/814 [==============================] - 28s 28ms/step - g_loss: 2.5715 - d_loss: -1.3982\n",
      "Epoch 2/100\n",
      "814/814 [==============================] - 22s 28ms/step - g_loss: 2.4308 - d_loss: -2.1241\n",
      "Epoch 3/100\n",
      "814/814 [==============================] - 22s 27ms/step - g_loss: 1.2452 - d_loss: -2.0110\n",
      "Epoch 4/100\n",
      "814/814 [==============================] - 22s 27ms/step - g_loss: 2.1201 - d_loss: -1.9411\n",
      "Epoch 5/100\n",
      "814/814 [==============================] - 22s 27ms/step - g_loss: 2.6382 - d_loss: -1.9220\n",
      "Epoch 6/100\n",
      "814/814 [==============================] - 21s 26ms/step - g_loss: 3.1930 - d_loss: -1.9131\n",
      "Epoch 7/100\n",
      "814/814 [==============================] - 22s 27ms/step - g_loss: 2.8611 - d_loss: -1.9016\n",
      "Epoch 8/100\n",
      "814/814 [==============================] - 21s 26ms/step - g_loss: 2.4095 - d_loss: -1.8887\n",
      "Epoch 9/100\n",
      "814/814 [==============================] - 21s 25ms/step - g_loss: 1.9602 - d_loss: -1.8753\n",
      "Epoch 10/100\n",
      "814/814 [==============================] - 23s 29ms/step - g_loss: 1.1517 - d_loss: -1.8707\n",
      "Epoch 11/100\n",
      "814/814 [==============================] - 23s 28ms/step - g_loss: 0.5893 - d_loss: -1.8647\n",
      "Epoch 12/100\n",
      "814/814 [==============================] - 23s 28ms/step - g_loss: 0.2812 - d_loss: -1.8449\n",
      "Epoch 13/100\n",
      "814/814 [==============================] - 22s 28ms/step - g_loss: -0.1210 - d_loss: -1.8371\n",
      "Epoch 14/100\n",
      "814/814 [==============================] - 22s 28ms/step - g_loss: -0.3211 - d_loss: -1.8248\n",
      "Epoch 15/100\n",
      "814/814 [==============================] - 22s 28ms/step - g_loss: -0.4713 - d_loss: -1.8105\n",
      "Epoch 16/100\n",
      "814/814 [==============================] - 22s 27ms/step - g_loss: -0.4477 - d_loss: -1.8079\n",
      "Epoch 17/100\n",
      "814/814 [==============================] - 23s 28ms/step - g_loss: -0.6952 - d_loss: -1.7958\n",
      "Epoch 18/100\n",
      "814/814 [==============================] - 22s 27ms/step - g_loss: -0.8530 - d_loss: -1.7795\n",
      "Epoch 19/100\n",
      "814/814 [==============================] - 21s 26ms/step - g_loss: -1.0733 - d_loss: -1.7783\n",
      "Epoch 20/100\n",
      "814/814 [==============================] - 23s 29ms/step - g_loss: -1.1351 - d_loss: -1.7807\n",
      "Epoch 21/100\n",
      "814/814 [==============================] - 23s 28ms/step - g_loss: -1.2358 - d_loss: -1.7700\n",
      "Epoch 22/100\n",
      "814/814 [==============================] - 21s 25ms/step - g_loss: -1.1476 - d_loss: -1.7658\n",
      "Epoch 23/100\n",
      "814/814 [==============================] - 20s 25ms/step - g_loss: -1.1962 - d_loss: -1.7559\n",
      "Epoch 24/100\n",
      "814/814 [==============================] - 22s 27ms/step - g_loss: -1.2185 - d_loss: -1.7581\n",
      "Epoch 25/100\n",
      "814/814 [==============================] - 22s 27ms/step - g_loss: -1.3599 - d_loss: -1.7483\n",
      "Epoch 26/100\n",
      "814/814 [==============================] - 23s 28ms/step - g_loss: -1.4745 - d_loss: -1.7409\n",
      "Epoch 27/100\n",
      "814/814 [==============================] - 22s 27ms/step - g_loss: -1.6018 - d_loss: -1.7401\n",
      "Epoch 28/100\n",
      "814/814 [==============================] - 23s 28ms/step - g_loss: -1.6747 - d_loss: -1.7345\n",
      "Epoch 29/100\n",
      "814/814 [==============================] - 23s 28ms/step - g_loss: -1.6995 - d_loss: -1.7214\n",
      "Epoch 30/100\n",
      "814/814 [==============================] - 25s 31ms/step - g_loss: -1.7753 - d_loss: -1.7276\n",
      "Epoch 31/100\n",
      "814/814 [==============================] - 23s 28ms/step - g_loss: -1.8576 - d_loss: -1.7253\n",
      "Epoch 32/100\n",
      "814/814 [==============================] - 23s 28ms/step - g_loss: -1.8984 - d_loss: -1.7184\n",
      "Epoch 33/100\n",
      "814/814 [==============================] - 23s 28ms/step - g_loss: -1.9423 - d_loss: -1.7228\n",
      "Epoch 34/100\n",
      "814/814 [==============================] - 23s 28ms/step - g_loss: -1.8679 - d_loss: -1.7086\n",
      "Epoch 35/100\n",
      "814/814 [==============================] - 22s 27ms/step - g_loss: -1.9999 - d_loss: -1.7129\n",
      "Epoch 36/100\n",
      "814/814 [==============================] - 22s 27ms/step - g_loss: -2.0360 - d_loss: -1.7121\n",
      "Epoch 37/100\n",
      "814/814 [==============================] - 22s 27ms/step - g_loss: -2.1146 - d_loss: -1.7022\n",
      "Epoch 38/100\n",
      "814/814 [==============================] - 22s 27ms/step - g_loss: -1.9754 - d_loss: -1.7015\n",
      "Epoch 39/100\n",
      "814/814 [==============================] - 23s 28ms/step - g_loss: -2.0514 - d_loss: -1.7003\n",
      "Epoch 40/100\n",
      "814/814 [==============================] - 22s 27ms/step - g_loss: -2.1150 - d_loss: -1.6974\n",
      "Epoch 41/100\n",
      "814/814 [==============================] - 23s 28ms/step - g_loss: -2.1294 - d_loss: -1.7021\n",
      "Epoch 42/100\n",
      "814/814 [==============================] - 22s 27ms/step - g_loss: -2.1155 - d_loss: -1.6995\n",
      "Epoch 43/100\n",
      "814/814 [==============================] - 22s 27ms/step - g_loss: -2.2048 - d_loss: -1.6895\n",
      "Epoch 44/100\n",
      "814/814 [==============================] - 22s 27ms/step - g_loss: -2.2498 - d_loss: -1.6965\n",
      "Epoch 45/100\n",
      "814/814 [==============================] - 22s 27ms/step - g_loss: -2.2880 - d_loss: -1.6996\n",
      "Epoch 46/100\n",
      "814/814 [==============================] - 22s 27ms/step - g_loss: -2.3121 - d_loss: -1.6848\n",
      "Epoch 47/100\n",
      "814/814 [==============================] - 23s 29ms/step - g_loss: -2.4194 - d_loss: -1.6872\n",
      "Epoch 48/100\n",
      "814/814 [==============================] - 22s 27ms/step - g_loss: -2.4142 - d_loss: -1.6868\n",
      "Epoch 49/100\n",
      "814/814 [==============================] - 22s 27ms/step - g_loss: -2.4402 - d_loss: -1.6814\n",
      "Epoch 50/100\n",
      "814/814 [==============================] - 21s 26ms/step - g_loss: -2.3215 - d_loss: -1.6804\n",
      "Epoch 51/100\n",
      "814/814 [==============================] - 22s 27ms/step - g_loss: -2.4252 - d_loss: -1.6743\n",
      "Epoch 52/100\n",
      "814/814 [==============================] - 22s 27ms/step - g_loss: -2.3458 - d_loss: -1.6817\n",
      "Epoch 53/100\n",
      "814/814 [==============================] - 21s 26ms/step - g_loss: -2.4369 - d_loss: -1.6770\n",
      "Epoch 54/100\n",
      "814/814 [==============================] - 21s 26ms/step - g_loss: -2.3872 - d_loss: -1.6747\n",
      "Epoch 55/100\n",
      "814/814 [==============================] - 23s 28ms/step - g_loss: -2.4341 - d_loss: -1.6731\n",
      "Epoch 56/100\n",
      "814/814 [==============================] - 23s 28ms/step - g_loss: -2.5299 - d_loss: -1.6813\n",
      "Epoch 57/100\n",
      "814/814 [==============================] - 22s 27ms/step - g_loss: -2.5435 - d_loss: -1.6724\n",
      "Epoch 58/100\n",
      "814/814 [==============================] - 21s 26ms/step - g_loss: -2.4871 - d_loss: -1.6756\n",
      "Epoch 59/100\n",
      "814/814 [==============================] - 22s 27ms/step - g_loss: -2.5482 - d_loss: -1.6709\n",
      "Epoch 60/100\n",
      "814/814 [==============================] - 22s 28ms/step - g_loss: -2.4989 - d_loss: -1.6811\n",
      "Epoch 61/100\n",
      "814/814 [==============================] - 23s 28ms/step - g_loss: -2.5956 - d_loss: -1.6705\n",
      "Epoch 62/100\n",
      "814/814 [==============================] - 21s 26ms/step - g_loss: -2.6348 - d_loss: -1.6768\n",
      "Epoch 63/100\n",
      "814/814 [==============================] - 22s 28ms/step - g_loss: -2.7083 - d_loss: -1.6743\n",
      "Epoch 64/100\n",
      "814/814 [==============================] - 22s 26ms/step - g_loss: -2.6963 - d_loss: -1.6650\n",
      "Epoch 65/100\n",
      "814/814 [==============================] - 23s 28ms/step - g_loss: -2.6637 - d_loss: -1.6845\n",
      "Epoch 66/100\n",
      "814/814 [==============================] - 22s 27ms/step - g_loss: -2.7480 - d_loss: -1.6759\n",
      "Epoch 67/100\n",
      "814/814 [==============================] - 22s 27ms/step - g_loss: -2.6384 - d_loss: -1.6840\n",
      "Epoch 68/100\n",
      "814/814 [==============================] - 22s 26ms/step - g_loss: -2.7255 - d_loss: -1.6731\n",
      "Epoch 69/100\n",
      "814/814 [==============================] - 22s 27ms/step - g_loss: -2.7288 - d_loss: -1.6711\n",
      "Epoch 70/100\n",
      "814/814 [==============================] - 21s 26ms/step - g_loss: -2.4881 - d_loss: -1.6748\n",
      "Epoch 71/100\n",
      "814/814 [==============================] - 22s 27ms/step - g_loss: -2.4837 - d_loss: -1.6685\n",
      "Epoch 72/100\n",
      "814/814 [==============================] - 22s 27ms/step - g_loss: -2.5178 - d_loss: -1.6768\n",
      "Epoch 73/100\n",
      "814/814 [==============================] - 22s 26ms/step - g_loss: -2.5378 - d_loss: -1.6703\n",
      "Epoch 74/100\n",
      "814/814 [==============================] - 22s 27ms/step - g_loss: -2.4962 - d_loss: -1.6822\n",
      "Epoch 75/100\n",
      "814/814 [==============================] - 21s 26ms/step - g_loss: -2.5076 - d_loss: -1.6712\n",
      "Epoch 76/100\n",
      "814/814 [==============================] - 22s 26ms/step - g_loss: -2.5485 - d_loss: -1.6783\n",
      "Epoch 77/100\n",
      "814/814 [==============================] - 22s 27ms/step - g_loss: -2.4726 - d_loss: -1.6843\n",
      "Epoch 78/100\n",
      "814/814 [==============================] - 22s 27ms/step - g_loss: -2.4143 - d_loss: -1.6734\n",
      "Epoch 79/100\n",
      "814/814 [==============================] - 22s 27ms/step - g_loss: -2.4789 - d_loss: -1.6755\n",
      "Epoch 80/100\n",
      "814/814 [==============================] - 22s 27ms/step - g_loss: -2.3674 - d_loss: -1.6719\n",
      "Epoch 81/100\n",
      "814/814 [==============================] - 23s 28ms/step - g_loss: -2.2336 - d_loss: -1.6767\n",
      "Epoch 82/100\n",
      "814/814 [==============================] - 23s 28ms/step - g_loss: -2.2233 - d_loss: -1.6672\n",
      "Epoch 83/100\n",
      "814/814 [==============================] - 22s 28ms/step - g_loss: -2.2103 - d_loss: -1.6656\n",
      "Epoch 84/100\n",
      "814/814 [==============================] - 23s 28ms/step - g_loss: -2.2225 - d_loss: -1.6688\n",
      "Epoch 85/100\n",
      "814/814 [==============================] - 23s 28ms/step - g_loss: -2.1853 - d_loss: -1.6654\n",
      "Epoch 86/100\n",
      "814/814 [==============================] - 23s 29ms/step - g_loss: -2.1613 - d_loss: -1.6676\n",
      "Epoch 87/100\n",
      "814/814 [==============================] - 22s 27ms/step - g_loss: -2.1911 - d_loss: -1.6596\n",
      "Epoch 88/100\n",
      "814/814 [==============================] - 21s 26ms/step - g_loss: -2.1306 - d_loss: -1.6649\n",
      "Epoch 89/100\n",
      "814/814 [==============================] - 21s 26ms/step - g_loss: -2.1341 - d_loss: -1.6624\n",
      "Epoch 90/100\n",
      "814/814 [==============================] - 23s 29ms/step - g_loss: -2.1601 - d_loss: -1.6683\n",
      "Epoch 91/100\n",
      "814/814 [==============================] - 24s 29ms/step - g_loss: -2.1421 - d_loss: -1.6687\n",
      "Epoch 92/100\n",
      "814/814 [==============================] - 23s 29ms/step - g_loss: -2.0881 - d_loss: -1.6652\n",
      "Epoch 93/100\n",
      "814/814 [==============================] - 22s 28ms/step - g_loss: -2.1846 - d_loss: -1.6697\n",
      "Epoch 94/100\n",
      "814/814 [==============================] - 22s 27ms/step - g_loss: -2.2001 - d_loss: -1.6788\n",
      "Epoch 95/100\n",
      "814/814 [==============================] - 22s 27ms/step - g_loss: -2.2481 - d_loss: -1.6732\n",
      "Epoch 96/100\n",
      "814/814 [==============================] - 21s 26ms/step - g_loss: -2.2424 - d_loss: -1.6704\n",
      "Epoch 97/100\n",
      "814/814 [==============================] - 23s 28ms/step - g_loss: -2.2261 - d_loss: -1.6658\n",
      "Epoch 98/100\n",
      "814/814 [==============================] - 21s 25ms/step - g_loss: -2.1985 - d_loss: -1.6769\n",
      "Epoch 99/100\n",
      "814/814 [==============================] - 23s 28ms/step - g_loss: -2.1219 - d_loss: -1.6747\n",
      "Epoch 100/100\n",
      "814/814 [==============================] - 22s 27ms/step - g_loss: -2.2838 - d_loss: -1.6721\n"
     ]
    },
    {
     "data": {
      "text/plain": [
       "<keras.callbacks.History at 0x2bff3a69390>"
      ]
     },
     "execution_count": 12,
     "metadata": {},
     "output_type": "execute_result"
    }
   ],
   "source": [
    "model.fit(dataset, epochs = epochs, batch_size = batch_size)"
   ]
  },
  {
   "cell_type": "markdown",
   "id": "bdd592ae",
   "metadata": {},
   "source": [
    "## Evaluating the results"
   ]
  },
  {
   "cell_type": "code",
   "execution_count": 13,
   "id": "2a854e59",
   "metadata": {},
   "outputs": [],
   "source": [
    "y_train = np.argmax(y_train, axis = -1)"
   ]
  },
  {
   "cell_type": "code",
   "execution_count": 14,
   "id": "95f816d1",
   "metadata": {},
   "outputs": [
    {
     "name": "stdout",
     "output_type": "stream",
     "text": [
      "              precision    recall  f1-score   support\n",
      "\n",
      "           0       0.88      0.93      0.90      4914\n",
      "           1       0.74      0.60      0.67      1599\n",
      "\n",
      "    accuracy                           0.85      6513\n",
      "   macro avg       0.81      0.77      0.79      6513\n",
      "weighted avg       0.85      0.85      0.85      6513\n",
      "\n"
     ]
    },
    {
     "data": {
      "image/png": "[encoded data removed]",
      "text/plain": [
       "<Figure size 640x480 with 2 Axes>"
      ]
     },
     "metadata": {},
     "output_type": "display_data"
    }
   ],
   "source": [
    "from sklearn.ensemble import RandomForestClassifier\n",
    "from sklearn.metrics import precision_score, recall_score, f1_score,\\\n",
    "                            accuracy_score, balanced_accuracy_score,classification_report,\\\n",
    "                            plot_confusion_matrix, confusion_matrix\n",
    "\n",
    "# first train a random forest classifier on the original data\n",
    "rf = RandomForestClassifier(n_estimators = 100, random_state = 42)\n",
    "rf.fit(X_train,y_train)\n",
    "\n",
    "y_pred = rf.predict(X_test)\n",
    "\n",
    "# evaluation\n",
    "print(classification_report(y_test, y_pred))\n",
    "plot_confusion_matrix(rf, X_test, y_test)\n",
    "plt.show()"
   ]
  },
  {
   "cell_type": "code",
   "execution_count": 15,
   "id": "fb3c1867",
   "metadata": {
    "scrolled": true
   },
   "outputs": [
    {
     "data": {
      "text/plain": [
       "0    24720\n",
       "1     7841\n",
       "Name: income, dtype: int64"
      ]
     },
     "execution_count": 15,
     "metadata": {},
     "output_type": "execute_result"
    }
   ],
   "source": [
    "df[\"income\"].value_counts()"
   ]
  },
  {
   "cell_type": "code",
   "execution_count": 16,
   "id": "14edb433",
   "metadata": {},
   "outputs": [
    {
     "name": "stdout",
     "output_type": "stream",
     "text": [
      "618/618 [==============================] - 1s 1ms/step\n",
      "197/197 [==============================] - 0s 1ms/step\n"
     ]
    }
   ],
   "source": [
    "# generate data using trained model\n",
    "noise = np.random.normal(0, 1, (19758, latent_dim))\n",
    "sampled_labels = np.zeros(19758).reshape(-1, 1)\n",
    "sampled_labels = keras.utils.to_categorical(sampled_labels,num_classes)\n",
    "\n",
    "gen_samples = model.generator.predict([noise, sampled_labels])\n",
    "\n",
    "gen_df = pd.DataFrame(data = gen_samples,\n",
    "                      columns = df.drop('income',1).columns)\n",
    "\n",
    "noise_2 = np.random.normal(0, 1, (6290, latent_dim))\n",
    "sampled_labels_2 = np.ones(6290).reshape(-1, 1)\n",
    "sampled_labels_2 = keras.utils.to_categorical(sampled_labels_2,num_classes)\n",
    "\n",
    "gen_samples_2 = model.generator.predict([noise_2, sampled_labels_2])\n",
    "\n",
    "gen_df_2 = pd.DataFrame(data = gen_samples_2,\n",
    "                      columns = df.drop('income',1).columns)\n",
    "\n",
    "gen_df_2['income'] = 1\n",
    "gen_df['income']=0\n",
    "\n",
    "df_gan = pd.concat([gen_df_2, gen_df], ignore_index=True, sort=False)\n",
    "df_gan = df_gan.sample(frac=1).reset_index(drop=True)\n",
    "\n",
    "X_train_2 = df_gan.drop('income', 1)\n",
    "y_train_2 = df_gan['income'].values"
   ]
  },
  {
   "cell_type": "code",
   "execution_count": 17,
   "id": "1d6de751",
   "metadata": {},
   "outputs": [
    {
     "data": {
      "text/html": [
       "<div>\n",
       "<style scoped>\n",
       "    .dataframe tbody tr th:only-of-type {\n",
       "        vertical-align: middle;\n",
       "    }\n",
       "\n",
       "    .dataframe tbody tr th {\n",
       "        vertical-align: top;\n",
       "    }\n",
       "\n",
       "    .dataframe thead th {\n",
       "        text-align: right;\n",
       "    }\n",
       "</style>\n",
       "<table border=\"1\" class=\"dataframe\">\n",
       "  <thead>\n",
       "    <tr style=\"text-align: right;\">\n",
       "      <th></th>\n",
       "      <th>age</th>\n",
       "      <th>workclass</th>\n",
       "      <th>fnlwgt</th>\n",
       "      <th>education</th>\n",
       "      <th>education.num</th>\n",
       "      <th>marital.status</th>\n",
       "      <th>occupation</th>\n",
       "      <th>relationship</th>\n",
       "      <th>race</th>\n",
       "      <th>sex</th>\n",
       "      <th>capital.gain</th>\n",
       "      <th>capital.loss</th>\n",
       "      <th>hours.per.week</th>\n",
       "      <th>native.country</th>\n",
       "    </tr>\n",
       "  </thead>\n",
       "  <tbody>\n",
       "    <tr>\n",
       "      <th>0</th>\n",
       "      <td>-0.941807</td>\n",
       "      <td>-1.000000</td>\n",
       "      <td>-0.087818</td>\n",
       "      <td>0.080896</td>\n",
       "      <td>-0.481967</td>\n",
       "      <td>1.000000</td>\n",
       "      <td>0.998662</td>\n",
       "      <td>0.999816</td>\n",
       "      <td>0.358296</td>\n",
       "      <td>0.683299</td>\n",
       "      <td>-0.115222</td>\n",
       "      <td>-0.131176</td>\n",
       "      <td>0.112616</td>\n",
       "      <td>0.280662</td>\n",
       "    </tr>\n",
       "    <tr>\n",
       "      <th>1</th>\n",
       "      <td>-0.543369</td>\n",
       "      <td>0.910350</td>\n",
       "      <td>-0.424639</td>\n",
       "      <td>0.981711</td>\n",
       "      <td>-0.070000</td>\n",
       "      <td>0.923901</td>\n",
       "      <td>-0.576539</td>\n",
       "      <td>0.563525</td>\n",
       "      <td>0.425418</td>\n",
       "      <td>0.706740</td>\n",
       "      <td>-0.163073</td>\n",
       "      <td>-0.209873</td>\n",
       "      <td>0.044521</td>\n",
       "      <td>0.302889</td>\n",
       "    </tr>\n",
       "    <tr>\n",
       "      <th>2</th>\n",
       "      <td>-0.997179</td>\n",
       "      <td>0.016898</td>\n",
       "      <td>0.036995</td>\n",
       "      <td>-0.942984</td>\n",
       "      <td>-0.824928</td>\n",
       "      <td>1.000000</td>\n",
       "      <td>0.260965</td>\n",
       "      <td>0.968199</td>\n",
       "      <td>0.451757</td>\n",
       "      <td>-1.000000</td>\n",
       "      <td>-0.142986</td>\n",
       "      <td>-0.196052</td>\n",
       "      <td>-1.000000</td>\n",
       "      <td>0.299437</td>\n",
       "    </tr>\n",
       "    <tr>\n",
       "      <th>3</th>\n",
       "      <td>-0.013556</td>\n",
       "      <td>0.223485</td>\n",
       "      <td>0.285632</td>\n",
       "      <td>0.241423</td>\n",
       "      <td>-0.624011</td>\n",
       "      <td>-0.393304</td>\n",
       "      <td>-0.571030</td>\n",
       "      <td>-0.809469</td>\n",
       "      <td>0.235193</td>\n",
       "      <td>0.686667</td>\n",
       "      <td>0.151308</td>\n",
       "      <td>0.165920</td>\n",
       "      <td>0.112126</td>\n",
       "      <td>-1.000000</td>\n",
       "    </tr>\n",
       "    <tr>\n",
       "      <th>4</th>\n",
       "      <td>0.999183</td>\n",
       "      <td>0.066304</td>\n",
       "      <td>0.987239</td>\n",
       "      <td>0.956626</td>\n",
       "      <td>-0.134689</td>\n",
       "      <td>-0.818936</td>\n",
       "      <td>0.233652</td>\n",
       "      <td>-0.228997</td>\n",
       "      <td>0.412224</td>\n",
       "      <td>-0.999999</td>\n",
       "      <td>-0.134331</td>\n",
       "      <td>-0.161099</td>\n",
       "      <td>-0.999408</td>\n",
       "      <td>0.298009</td>\n",
       "    </tr>\n",
       "  </tbody>\n",
       "</table>\n",
       "</div>"
      ],
      "text/plain": [
       "        age  workclass    fnlwgt  education  education.num  marital.status  \\\n",
       "0 -0.941807  -1.000000 -0.087818   0.080896      -0.481967        1.000000   \n",
       "1 -0.543369   0.910350 -0.424639   0.981711      -0.070000        0.923901   \n",
       "2 -0.997179   0.016898  0.036995  -0.942984      -0.824928        1.000000   \n",
       "3 -0.013556   0.223485  0.285632   0.241423      -0.624011       -0.393304   \n",
       "4  0.999183   0.066304  0.987239   0.956626      -0.134689       -0.818936   \n",
       "\n",
       "   occupation  relationship      race       sex  capital.gain  capital.loss  \\\n",
       "0    0.998662      0.999816  0.358296  0.683299     -0.115222     -0.131176   \n",
       "1   -0.576539      0.563525  0.425418  0.706740     -0.163073     -0.209873   \n",
       "2    0.260965      0.968199  0.451757 -1.000000     -0.142986     -0.196052   \n",
       "3   -0.571030     -0.809469  0.235193  0.686667      0.151308      0.165920   \n",
       "4    0.233652     -0.228997  0.412224 -0.999999     -0.134331     -0.161099   \n",
       "\n",
       "   hours.per.week  native.country  \n",
       "0        0.112616        0.280662  \n",
       "1        0.044521        0.302889  \n",
       "2       -1.000000        0.299437  \n",
       "3        0.112126       -1.000000  \n",
       "4       -0.999408        0.298009  "
      ]
     },
     "execution_count": 17,
     "metadata": {},
     "output_type": "execute_result"
    }
   ],
   "source": [
    "X_train_2.head()"
   ]
  },
  {
   "cell_type": "code",
   "execution_count": 18,
   "id": "abddc18f",
   "metadata": {},
   "outputs": [
    {
     "name": "stdout",
     "output_type": "stream",
     "text": [
      "              precision    recall  f1-score   support\n",
      "\n",
      "           0       0.87      0.89      0.88      4914\n",
      "           1       0.64      0.60      0.62      1599\n",
      "\n",
      "    accuracy                           0.82      6513\n",
      "   macro avg       0.76      0.75      0.75      6513\n",
      "weighted avg       0.82      0.82      0.82      6513\n",
      "\n"
     ]
    },
    {
     "data": {
      "image/png": "[encoded data removed]",
      "text/plain": [
       "<Figure size 640x480 with 2 Axes>"
      ]
     },
     "metadata": {},
     "output_type": "display_data"
    }
   ],
   "source": [
    "# now train a different instance of random forest classifier with the same parameters on generated data\n",
    "rf1 = RandomForestClassifier(n_estimators = 100, random_state = 42)\n",
    "rf1.fit(X_train_2,y_train_2)\n",
    "\n",
    "y_pred = rf1.predict(X_test)\n",
    "\n",
    "# evaluation\n",
    "print(classification_report(y_test, y_pred))\n",
    "plot_confusion_matrix(rf1, X_test, y_test)\n",
    "plt.show()"
   ]
  },
  {
   "cell_type": "markdown",
   "id": "436ee766",
   "metadata": {},
   "source": [
    "## Distance measurement for generated data"
   ]
  },
  {
   "cell_type": "code",
   "execution_count": 19,
   "id": "c1876481",
   "metadata": {},
   "outputs": [
    {
     "data": {
      "text/html": [
       "<div>\n",
       "<style scoped>\n",
       "    .dataframe tbody tr th:only-of-type {\n",
       "        vertical-align: middle;\n",
       "    }\n",
       "\n",
       "    .dataframe tbody tr th {\n",
       "        vertical-align: top;\n",
       "    }\n",
       "\n",
       "    .dataframe thead th {\n",
       "        text-align: right;\n",
       "    }\n",
       "</style>\n",
       "<table border=\"1\" class=\"dataframe\">\n",
       "  <thead>\n",
       "    <tr style=\"text-align: right;\">\n",
       "      <th></th>\n",
       "      <th>age</th>\n",
       "      <th>workclass</th>\n",
       "      <th>fnlwgt</th>\n",
       "      <th>education</th>\n",
       "      <th>education.num</th>\n",
       "      <th>marital.status</th>\n",
       "      <th>occupation</th>\n",
       "      <th>relationship</th>\n",
       "      <th>race</th>\n",
       "      <th>sex</th>\n",
       "      <th>capital.gain</th>\n",
       "      <th>capital.loss</th>\n",
       "      <th>hours.per.week</th>\n",
       "      <th>native.country</th>\n",
       "    </tr>\n",
       "  </thead>\n",
       "  <tbody>\n",
       "    <tr>\n",
       "      <th>0</th>\n",
       "      <td>25.735189</td>\n",
       "      <td>2.412955</td>\n",
       "      <td>180509.312500</td>\n",
       "      <td>10.611292</td>\n",
       "      <td>8.840733</td>\n",
       "      <td>4.118035</td>\n",
       "      <td>10.795873</td>\n",
       "      <td>3.052813</td>\n",
       "      <td>3.969976</td>\n",
       "      <td>0.990697</td>\n",
       "      <td>226.711838</td>\n",
       "      <td>34.446064</td>\n",
       "      <td>41.827957</td>\n",
       "      <td>38.914669</td>\n",
       "    </tr>\n",
       "    <tr>\n",
       "      <th>1</th>\n",
       "      <td>31.169968</td>\n",
       "      <td>5.194305</td>\n",
       "      <td>144958.437500</td>\n",
       "      <td>14.097631</td>\n",
       "      <td>9.900592</td>\n",
       "      <td>4.003415</td>\n",
       "      <td>4.134676</td>\n",
       "      <td>2.351804</td>\n",
       "      <td>4.026950</td>\n",
       "      <td>1.001726</td>\n",
       "      <td>-126.676476</td>\n",
       "      <td>2.734540</td>\n",
       "      <td>40.987171</td>\n",
       "      <td>39.088570</td>\n",
       "    </tr>\n",
       "    <tr>\n",
       "      <th>2</th>\n",
       "      <td>24.979904</td>\n",
       "      <td>3.893495</td>\n",
       "      <td>193683.109375</td>\n",
       "      <td>6.648668</td>\n",
       "      <td>7.958403</td>\n",
       "      <td>4.118035</td>\n",
       "      <td>7.676305</td>\n",
       "      <td>3.002012</td>\n",
       "      <td>4.049305</td>\n",
       "      <td>0.198706</td>\n",
       "      <td>21.670572</td>\n",
       "      <td>8.303937</td>\n",
       "      <td>28.090216</td>\n",
       "      <td>39.061558</td>\n",
       "    </tr>\n",
       "    <tr>\n",
       "      <th>3</th>\n",
       "      <td>38.396736</td>\n",
       "      <td>4.194272</td>\n",
       "      <td>219926.343750</td>\n",
       "      <td>11.232565</td>\n",
       "      <td>8.475300</td>\n",
       "      <td>2.019443</td>\n",
       "      <td>4.157972</td>\n",
       "      <td>0.145750</td>\n",
       "      <td>3.865488</td>\n",
       "      <td>0.992282</td>\n",
       "      <td>2195.082520</td>\n",
       "      <td>154.162079</td>\n",
       "      <td>41.821907</td>\n",
       "      <td>28.895205</td>\n",
       "    </tr>\n",
       "    <tr>\n",
       "      <th>4</th>\n",
       "      <td>52.210724</td>\n",
       "      <td>3.965427</td>\n",
       "      <td>293979.812500</td>\n",
       "      <td>14.000548</td>\n",
       "      <td>9.734168</td>\n",
       "      <td>1.378356</td>\n",
       "      <td>7.560804</td>\n",
       "      <td>1.078422</td>\n",
       "      <td>4.015750</td>\n",
       "      <td>0.198707</td>\n",
       "      <td>85.592445</td>\n",
       "      <td>22.388172</td>\n",
       "      <td>28.097528</td>\n",
       "      <td>39.050388</td>\n",
       "    </tr>\n",
       "  </tbody>\n",
       "</table>\n",
       "</div>"
      ],
      "text/plain": [
       "         age  workclass         fnlwgt  education  education.num  \\\n",
       "0  25.735189   2.412955  180509.312500  10.611292       8.840733   \n",
       "1  31.169968   5.194305  144958.437500  14.097631       9.900592   \n",
       "2  24.979904   3.893495  193683.109375   6.648668       7.958403   \n",
       "3  38.396736   4.194272  219926.343750  11.232565       8.475300   \n",
       "4  52.210724   3.965427  293979.812500  14.000548       9.734168   \n",
       "\n",
       "   marital.status  occupation  relationship      race       sex  capital.gain  \\\n",
       "0        4.118035   10.795873      3.052813  3.969976  0.990697    226.711838   \n",
       "1        4.003415    4.134676      2.351804  4.026950  1.001726   -126.676476   \n",
       "2        4.118035    7.676305      3.002012  4.049305  0.198706     21.670572   \n",
       "3        2.019443    4.157972      0.145750  3.865488  0.992282   2195.082520   \n",
       "4        1.378356    7.560804      1.078422  4.015750  0.198707     85.592445   \n",
       "\n",
       "   capital.loss  hours.per.week  native.country  \n",
       "0     34.446064       41.827957       38.914669  \n",
       "1      2.734540       40.987171       39.088570  \n",
       "2      8.303937       28.090216       39.061558  \n",
       "3    154.162079       41.821907       28.895205  \n",
       "4     22.388172       28.097528       39.050388  "
      ]
     },
     "execution_count": 19,
     "metadata": {},
     "output_type": "execute_result"
    }
   ],
   "source": [
    "generated = scaler.inverse_transform(df_gan.drop([\"income\"],1))\n",
    "generated_df = pd.DataFrame(data=generated,columns = df.drop('income',1).columns)\n",
    "generated_df.head()"
   ]
  },
  {
   "cell_type": "code",
   "execution_count": 20,
   "id": "08a4a96f",
   "metadata": {},
   "outputs": [
    {
     "name": "stdout",
     "output_type": "stream",
     "text": [
      "age                   37.744720\n",
      "workclass              3.956367\n",
      "fnlwgt            186558.953125\n",
      "education             10.583974\n",
      "education.num         10.177630\n",
      "marital.status         2.650270\n",
      "occupation             6.633686\n",
      "relationship           1.179376\n",
      "race                   3.828619\n",
      "sex                    0.753138\n",
      "capital.gain         548.093445\n",
      "capital.loss          29.221390\n",
      "hours.per.week        40.827816\n",
      "native.country        38.041714\n",
      "dtype: float32\n",
      "age                   9.727076\n",
      "workclass             0.806290\n",
      "fnlwgt            71742.070312\n",
      "education             2.514513\n",
      "education.num         1.805182\n",
      "marital.status        1.171983\n",
      "occupation            3.353681\n",
      "relationship          1.264050\n",
      "race                  0.419756\n",
      "sex                   0.370785\n",
      "capital.gain       1882.750000\n",
      "capital.loss        105.154671\n",
      "hours.per.week        7.076140\n",
      "native.country        2.953638\n",
      "dtype: float32\n"
     ]
    }
   ],
   "source": [
    "print(generated_df.mean())\n",
    "print(generated_df.std())"
   ]
  },
  {
   "cell_type": "code",
   "execution_count": 21,
   "id": "4c47cc5b",
   "metadata": {},
   "outputs": [
    {
     "data": {
      "image/png": "[encoded data removed]",
      "text/plain": [
       "<Figure size 1600x800 with 12 Axes>"
      ]
     },
     "metadata": {},
     "output_type": "display_data"
    }
   ],
   "source": [
    "from utils import build_hist\n",
    "build_hist(df,generated_df,3,4,df.columns[:12],figsize=(16,8))"
   ]
  }
 ],
 "metadata": {
  "kernelspec": {
   "display_name": "Python 3 (ipykernel)",
   "language": "python",
   "name": "python3"
  },
  "language_info": {
   "codemirror_mode": {
    "name": "ipython",
    "version": 3
   },
   "file_extension": ".py",
   "mimetype": "text/x-python",
   "name": "python",
   "nbconvert_exporter": "python",
   "pygments_lexer": "ipython3",
   "version": "3.10.5"
  }
 },
 "nbformat": 4,
 "nbformat_minor": 5
}
