{
 "cells": [
  {
   "cell_type": "code",
   "execution_count": 1,
   "id": "1d3f1f88",
   "metadata": {},
   "outputs": [],
   "source": [
    "import numpy as np\n",
    "import pandas as pd\n",
    "import tensorflow as tf\n",
    "\n",
    "from matplotlib import pyplot as plt\n",
    "\n",
    "from tensorflow import keras\n",
    "from keras import layers\n",
    "from keras.models import Sequential, Model\n",
    "from keras.initializers import RandomNormal\n",
    "from keras.optimizers import Adam\n",
    "\n",
    "from tensorflow.keras.initializers import RandomNormal\n",
    "import tensorflow.keras.backend as K\n",
    "from sklearn.utils import shuffle\n",
    "\n",
    "from wasserstein_loss import wasserstein_generator_loss, wasserstein_discriminator_loss\n",
    "from image_wgan_gp import imageWGANGP\n",
    "from GANmonitor import GANMonitor"
   ]
  },
  {
   "cell_type": "code",
   "execution_count": 2,
   "id": "b938057d",
   "metadata": {},
   "outputs": [],
   "source": [
    "import warnings\n",
    "warnings.filterwarnings('ignore')"
   ]
  },
  {
   "cell_type": "markdown",
   "id": "1326744c",
   "metadata": {},
   "source": [
    "# GAN model"
   ]
  },
  {
   "cell_type": "code",
   "execution_count": 3,
   "id": "8052967d",
   "metadata": {},
   "outputs": [],
   "source": [
    "def upsample_block(x, filters, size, strides, upsize, apply_dropout=False):\n",
    "    initializer = tf.random_normal_initializer(0., 0.02)\n",
    "\n",
    "    x = layers.UpSampling2D(upsize)(x)\n",
    "    x = layers.Conv2D(\n",
    "        filters, size, strides=strides, padding=\"same\", use_bias=False\n",
    "    )(x)\n",
    "    x = layers.BatchNormalization()(x)\n",
    "    if apply_dropout:\n",
    "        x = layers.Dropout(0.5)(x)\n",
    "    x = layers.LeakyReLU(alpha=0.2)(x)\n",
    "    return x\n",
    "\n",
    "def convolution_block(x, filters, size, strides, apply_batchnorm=False, apply_layernorm=True, apply_dropout=False):\n",
    "    initializer = tf.random_normal_initializer(0., 0.02)\n",
    "\n",
    "    x = layers.Conv2D(filters, size, strides=strides, padding='same',\n",
    "                                    kernel_initializer=initializer, use_bias=False)(x)\n",
    "    if apply_batchnorm:\n",
    "        # don't EVER use batchnorm in WGAN models\n",
    "        # unless of course you like loss in billions, then be my guest\n",
    "        x = layers.BatchNormalization()(x)\n",
    "    if apply_layernorm:\n",
    "        x = layers.LayerNormalization()(x)\n",
    "    if apply_dropout:\n",
    "        x = layers.Dropout(0.3)(x)\n",
    "    x = layers.LeakyReLU(alpha=0.2)(x)\n",
    "    return x"
   ]
  },
  {
   "cell_type": "code",
   "execution_count": 4,
   "id": "ab714b78",
   "metadata": {},
   "outputs": [],
   "source": [
    "def build_generator(latent_dim=128, num_classes=10, img_height=28, img_width=28, img_channels=1):\n",
    "    initializer = tf.random_normal_initializer(0., 0.02)\n",
    "    \n",
    "    in_channels = latent_dim+num_classes\n",
    "    inputs = layers.Input((in_channels,))\n",
    "    \n",
    "    x = inputs\n",
    "    \n",
    "    x = layers.Dense(4*4*in_channels)(x)\n",
    "    x = layers.Reshape((4,4,in_channels))(x)\n",
    "    \n",
    "    x = upsample_block(x, filters = 256, size = 3, strides = 1, upsize = (2,2))\n",
    "    x = upsample_block(x, filters = 128, size = 3, strides = 1, upsize = (2,2))\n",
    "    x = upsample_block(x, filters = 64, size = 3, strides = 1, upsize = (2,2))\n",
    "    \n",
    "    last = tf.keras.layers.Conv2D(img_channels, 7,\n",
    "                                 padding='same',\n",
    "                                 kernel_initializer=initializer,\n",
    "                                 activation='tanh')\n",
    "        \n",
    "    x = last(x)\n",
    "    # output shape should be (28,28), need to crop from (32,32)\n",
    "    x = layers.Cropping2D((2, 2))(x)\n",
    "    \n",
    "    return Model(inputs=inputs, outputs=x,name=\"generator\")"
   ]
  },
  {
   "cell_type": "code",
   "execution_count": 5,
   "id": "289e5da4",
   "metadata": {},
   "outputs": [],
   "source": [
    "def build_discriminator(num_classes=10, img_height=28, img_width=28, img_channels=1):\n",
    "    initializer = tf.random_normal_initializer(0., 0.02)\n",
    "    \n",
    "    inp = layers.Input((img_height,img_width,img_channels))\n",
    "    label = layers.Input((img_height,img_width,num_classes))\n",
    "    \n",
    "    x = layers.concatenate([inp, label])\n",
    "    # input shape is (28,28), need to fix it to (32,32)\n",
    "    x = layers.ZeroPadding2D((2, 2))(x)\n",
    "    \n",
    "    x = convolution_block(x, filters=64, size = 5, strides = 2)\n",
    "    x = convolution_block(x, filters=128, size = 5, strides = 2, apply_dropout = True)\n",
    "    x = convolution_block(x, filters=256, size = 5, strides = 2, apply_dropout = True)\n",
    "    x = convolution_block(x, filters=512, size = 5, strides = 2)\n",
    "    \n",
    "    flatten = layers.Flatten()\n",
    "    last = layers.Dense(1)\n",
    "    \n",
    "    x = flatten(x)\n",
    "    x = layers.Dropout(0.2)(x)\n",
    "    x = last(x)\n",
    "    \n",
    "    return Model(inputs=[inp,label], outputs=x, name=\"discriminator\")"
   ]
  },
  {
   "cell_type": "markdown",
   "id": "062c20f5",
   "metadata": {},
   "source": [
    "# Test data"
   ]
  },
  {
   "cell_type": "code",
   "execution_count": 13,
   "id": "e050fadf",
   "metadata": {},
   "outputs": [],
   "source": [
    "batch_size = 512\n",
    "img_channels = 1\n",
    "num_classes = 10\n",
    "img_height = 28\n",
    "img_width = 28\n",
    "latent_dim = 128"
   ]
  },
  {
   "cell_type": "code",
   "execution_count": 36,
   "id": "0dd2f91a",
   "metadata": {},
   "outputs": [
    {
     "name": "stdout",
     "output_type": "stream",
     "text": [
      "Shape of training images: (60000, 28, 28, 1)\n",
      "Shape of training labels: (60000, 10)\n"
     ]
    }
   ],
   "source": [
    "(x_train, y_train), (x_test, y_test) = tf.keras.datasets.mnist.load_data()\n",
    "\n",
    "x_train = (x_train.astype(\"float32\") - 127.5) / 127.5\n",
    "x_train = np.reshape(x_train, (-1, 28, 28, 1))\n",
    "y_train = keras.utils.to_categorical(y_train, num_classes)\n",
    "\n",
    "dataset = tf.data.Dataset.from_tensor_slices((x_train, y_train))\n",
    "dataset = dataset.shuffle(buffer_size=1024).batch(batch_size)\n",
    "\n",
    "dataset_test = tf.data.Dataset.from_tensor_slices((x_test, y_test))\n",
    "dataset_test = dataset_test.shuffle(buffer_size=1024).batch(batch_size)\n",
    "\n",
    "print(f\"Shape of training images: {x_train.shape}\")\n",
    "print(f\"Shape of training labels: {y_train.shape}\")"
   ]
  },
  {
   "cell_type": "code",
   "execution_count": 8,
   "id": "3f6fc9bb",
   "metadata": {},
   "outputs": [],
   "source": [
    "discriminator = build_discriminator()"
   ]
  },
  {
   "cell_type": "code",
   "execution_count": 9,
   "id": "b1a08ca7",
   "metadata": {},
   "outputs": [],
   "source": [
    "generator = build_generator()"
   ]
  },
  {
   "cell_type": "code",
   "execution_count": 14,
   "id": "13aa05b2",
   "metadata": {},
   "outputs": [],
   "source": [
    "mnistgan = imageWGANGP(generator,discriminator,latent_dim = latent_dim, num_classes = num_classes,\n",
    "                        img_height = img_height, img_width = img_width, img_channels = img_channels)\n",
    "mnistgan.compile(\n",
    "    discriminator_optimizer=Adam(learning_rate=0.0002, beta_1=0.5, beta_2=0.9),\n",
    "    generator_optimizer=Adam(learning_rate=0.0002, beta_1=0.5, beta_2=0.9),\n",
    "    discriminator_loss = wasserstein_discriminator_loss,\n",
    "    generator_loss = wasserstein_generator_loss\n",
    ")"
   ]
  },
  {
   "cell_type": "code",
   "execution_count": 15,
   "id": "c597f934",
   "metadata": {},
   "outputs": [],
   "source": [
    "# callbacks to save images and checkpoints\n",
    "cbk = GANMonitor()\n",
    "checkpoint_path = \"checkpoints_mnist/mnist_{epoch:04d}.ckpt\"\n",
    "cp_callback = tf.keras.callbacks.ModelCheckpoint(filepath=checkpoint_path, save_weights_only=True)"
   ]
  },
  {
   "cell_type": "code",
   "execution_count": 16,
   "id": "d92f37ae",
   "metadata": {
    "scrolled": true
   },
   "outputs": [
    {
     "name": "stdout",
     "output_type": "stream",
     "text": [
      "Epoch 1/50\n",
      "118/118 [==============================] - 260s 2s/step - g_loss: 6.8448 - d_loss: -6.9284\n",
      "Epoch 2/50\n",
      "118/118 [==============================] - 221s 2s/step - g_loss: 4.3496 - d_loss: -5.7635\n",
      "Epoch 3/50\n",
      "118/118 [==============================] - 222s 2s/step - g_loss: 2.5135 - d_loss: -4.0576\n",
      "Epoch 4/50\n",
      "118/118 [==============================] - 222s 2s/step - g_loss: 0.7783 - d_loss: -3.2612\n",
      "Epoch 5/50\n",
      "118/118 [==============================] - 222s 2s/step - g_loss: -0.8342 - d_loss: -2.8720\n",
      "Epoch 6/50\n",
      "118/118 [==============================] - 222s 2s/step - g_loss: -1.3930 - d_loss: -2.4482\n",
      "Epoch 7/50\n",
      "118/118 [==============================] - 222s 2s/step - g_loss: -1.3496 - d_loss: -2.2990\n",
      "Epoch 8/50\n",
      "118/118 [==============================] - 222s 2s/step - g_loss: -2.0630 - d_loss: -2.2216\n",
      "Epoch 9/50\n",
      "118/118 [==============================] - 222s 2s/step - g_loss: -2.4647 - d_loss: -2.1292\n",
      "Epoch 10/50\n",
      "118/118 [==============================] - 222s 2s/step - g_loss: -2.7372 - d_loss: -2.0575\n",
      "Epoch 11/50\n",
      "118/118 [==============================] - 222s 2s/step - g_loss: -3.1897 - d_loss: -1.9363\n",
      "Epoch 12/50\n",
      "118/118 [==============================] - 222s 2s/step - g_loss: -3.7279 - d_loss: -1.9031\n",
      "Epoch 13/50\n",
      "118/118 [==============================] - 222s 2s/step - g_loss: -3.6963 - d_loss: -1.8887\n",
      "Epoch 14/50\n",
      "118/118 [==============================] - 222s 2s/step - g_loss: -4.0500 - d_loss: -1.7611\n",
      "Epoch 15/50\n",
      "118/118 [==============================] - 222s 2s/step - g_loss: -4.1910 - d_loss: -1.7789\n",
      "Epoch 16/50\n",
      "118/118 [==============================] - 222s 2s/step - g_loss: -4.2060 - d_loss: -1.7824\n",
      "Epoch 17/50\n",
      "118/118 [==============================] - 222s 2s/step - g_loss: -3.7451 - d_loss: -1.7016\n",
      "Epoch 18/50\n",
      "118/118 [==============================] - 222s 2s/step - g_loss: -3.5923 - d_loss: -1.6445\n",
      "Epoch 19/50\n",
      "118/118 [==============================] - 222s 2s/step - g_loss: -3.8747 - d_loss: -1.7177\n",
      "Epoch 20/50\n",
      "118/118 [==============================] - 222s 2s/step - g_loss: -3.8269 - d_loss: -1.6085\n",
      "Epoch 21/50\n",
      "118/118 [==============================] - 222s 2s/step - g_loss: -4.3816 - d_loss: -1.6536\n",
      "Epoch 22/50\n",
      "118/118 [==============================] - 222s 2s/step - g_loss: -4.5623 - d_loss: -1.5881\n",
      "Epoch 23/50\n",
      "118/118 [==============================] - 224s 2s/step - g_loss: -4.3945 - d_loss: -1.5610\n",
      "Epoch 24/50\n",
      "118/118 [==============================] - 224s 2s/step - g_loss: -4.5776 - d_loss: -1.5973\n",
      "Epoch 25/50\n",
      "118/118 [==============================] - 224s 2s/step - g_loss: -3.7877 - d_loss: -1.5688\n",
      "Epoch 26/50\n",
      "118/118 [==============================] - 223s 2s/step - g_loss: -4.0307 - d_loss: -1.4714\n",
      "Epoch 27/50\n",
      "118/118 [==============================] - 223s 2s/step - g_loss: -4.0781 - d_loss: -1.4815\n",
      "Epoch 28/50\n",
      "118/118 [==============================] - 223s 2s/step - g_loss: -3.9727 - d_loss: -1.5161\n",
      "Epoch 29/50\n",
      "118/118 [==============================] - 223s 2s/step - g_loss: -4.5869 - d_loss: -1.3856\n",
      "Epoch 30/50\n",
      "118/118 [==============================] - 223s 2s/step - g_loss: -4.7102 - d_loss: -1.3963\n",
      "Epoch 31/50\n",
      "118/118 [==============================] - 223s 2s/step - g_loss: -4.8123 - d_loss: -1.3194\n",
      "Epoch 32/50\n",
      "118/118 [==============================] - 223s 2s/step - g_loss: -4.6929 - d_loss: -1.3870\n",
      "Epoch 33/50\n",
      "118/118 [==============================] - 223s 2s/step - g_loss: -4.9081 - d_loss: -1.4172\n",
      "Epoch 34/50\n",
      "118/118 [==============================] - 223s 2s/step - g_loss: -5.2248 - d_loss: -1.3125\n",
      "Epoch 35/50\n",
      "118/118 [==============================] - 223s 2s/step - g_loss: -5.1234 - d_loss: -1.3244\n",
      "Epoch 36/50\n",
      "118/118 [==============================] - 223s 2s/step - g_loss: -5.8333 - d_loss: -1.3247\n",
      "Epoch 37/50\n",
      "118/118 [==============================] - 223s 2s/step - g_loss: -5.5316 - d_loss: -1.3137\n",
      "Epoch 38/50\n",
      "118/118 [==============================] - 223s 2s/step - g_loss: -5.8364 - d_loss: -1.2973\n",
      "Epoch 39/50\n",
      "118/118 [==============================] - 223s 2s/step - g_loss: -5.9882 - d_loss: -1.3132\n",
      "Epoch 40/50\n",
      "118/118 [==============================] - 223s 2s/step - g_loss: -6.4603 - d_loss: -1.2526\n",
      "Epoch 41/50\n",
      "118/118 [==============================] - 223s 2s/step - g_loss: -6.8305 - d_loss: -1.1814\n",
      "Epoch 42/50\n",
      "118/118 [==============================] - 223s 2s/step - g_loss: -6.8134 - d_loss: -1.1633\n",
      "Epoch 43/50\n",
      "118/118 [==============================] - 223s 2s/step - g_loss: -6.8380 - d_loss: -1.1798\n",
      "Epoch 44/50\n",
      "118/118 [==============================] - 223s 2s/step - g_loss: -6.5769 - d_loss: -1.1899\n",
      "Epoch 45/50\n",
      "118/118 [==============================] - 223s 2s/step - g_loss: -6.2755 - d_loss: -1.1337\n",
      "Epoch 46/50\n",
      "118/118 [==============================] - 222s 2s/step - g_loss: -6.7983 - d_loss: -1.2121\n",
      "Epoch 47/50\n",
      "118/118 [==============================] - 222s 2s/step - g_loss: -7.0327 - d_loss: -1.2412\n",
      "Epoch 48/50\n",
      "118/118 [==============================] - 222s 2s/step - g_loss: -7.8498 - d_loss: -1.0925\n",
      "Epoch 49/50\n",
      "118/118 [==============================] - 222s 2s/step - g_loss: -8.8793 - d_loss: -1.1613\n",
      "Epoch 50/50\n",
      "118/118 [==============================] - 221s 2s/step - g_loss: -8.8013 - d_loss: -1.1598\n"
     ]
    },
    {
     "data": {
      "text/plain": [
       "<keras.callbacks.History at 0x1e5d9497e50>"
      ]
     },
     "execution_count": 16,
     "metadata": {},
     "output_type": "execute_result"
    }
   ],
   "source": [
    "#mnistgan.fit(dataset, epochs=50, batch_size = batch_size, callbacks=[cbk, cp_callback])"
   ]
  },
  {
   "cell_type": "code",
   "execution_count": 15,
   "id": "aacf4890",
   "metadata": {},
   "outputs": [
    {
     "data": {
      "text/plain": [
       "<tensorflow.python.checkpoint.checkpoint.CheckpointLoadStatus at 0x1eefa15fca0>"
      ]
     },
     "execution_count": 15,
     "metadata": {},
     "output_type": "execute_result"
    }
   ],
   "source": [
    "mnistgan.load_weights(\"checkpoints_mnist/mnist_0050.ckpt\")"
   ]
  },
  {
   "cell_type": "code",
   "execution_count": 16,
   "id": "b4ce0cca",
   "metadata": {
    "scrolled": true
   },
   "outputs": [
    {
     "data": {
      "image/png": "[encoded data removed]",
      "text/plain": [
       "<Figure size 640x480 with 10 Axes>"
      ]
     },
     "metadata": {},
     "output_type": "display_data"
    }
   ],
   "source": [
    "fig, axs = plt.subplots(2,5)\n",
    "for i in range(10):\n",
    "    arr = np.zeros((1,10))\n",
    "    arr[0][i] = 1\n",
    "    noise = tf.random.normal(shape=(1, latent_dim))\n",
    "    img = mnistgan.generator(tf.concat([noise, arr], axis = 1))\n",
    "    img = img.numpy()\n",
    "    img = img * 127.5 + 127.5\n",
    "    img = img.reshape((28,28))\n",
    "    axs[i//5][i%5].imshow(img)\n",
    "plt.show()"
   ]
  },
  {
   "cell_type": "code",
   "execution_count": 22,
   "id": "3f9b457b",
   "metadata": {},
   "outputs": [
    {
     "name": "stdout",
     "output_type": "stream",
     "text": [
      "(280, 280, 1)\n"
     ]
    }
   ],
   "source": [
    "# create a demo MNIST image\n",
    "random_latent_vectors = tf.random.normal(shape=(100, latent_dim))\n",
    "arr = np.zeros((100,num_classes))\n",
    "for i in range(10):\n",
    "    for j in range(10):\n",
    "        arr[i*10+j][i] = 1\n",
    "random_latent_vectors = tf.concat([random_latent_vectors,arr], axis = 1)\n",
    "generated_images = mnistgan.generator(random_latent_vectors)\n",
    "generated_images = (generated_images * 127.5) + 127.5\n",
    "\n",
    "img = []\n",
    "for i in range(10):\n",
    "    img.append([])\n",
    "    for j in range(10):\n",
    "        numpy_img = generated_images[i*10+j].numpy()\n",
    "        img[i].append(numpy_img)\n",
    "img = np.array(img)\n",
    "img = np.hstack(np.hstack(img))\n",
    "print(img.shape)\n",
    "img = img.reshape((img_height*10, img_width*10, img_channels))\n",
    "img = keras.preprocessing.image.array_to_img(img)\n",
    "img.save(f\"mnist_demo.png\")"
   ]
  },
  {
   "cell_type": "markdown",
   "id": "6c5bcc35",
   "metadata": {},
   "source": [
    "## Generating mnist digits"
   ]
  },
  {
   "cell_type": "code",
   "execution_count": 71,
   "id": "f43bdb3e",
   "metadata": {},
   "outputs": [],
   "source": [
    "img_list = []\n",
    "label_list = []\n",
    "for label in range(10):\n",
    "    for _ in range(100):\n",
    "        random_latent_vectors = tf.random.normal(shape=(60, latent_dim))\n",
    "        labels = np.full((60), label)\n",
    "        labels = keras.utils.to_categorical(labels,num_classes)\n",
    "        random_latent_vectors = tf.concat([random_latent_vectors,labels], axis = 1)\n",
    "        generated_imgs = mnistgan.generator(random_latent_vectors)\n",
    "        img_list.append(generated_imgs)\n",
    "        label_list.append(labels)\n",
    "generated_images = tf.reshape(tf.stack(img_list), [60000, 28, 28, 1])\n",
    "generated_labels = tf.reshape(tf.stack(label_list), [60000, 10])"
   ]
  },
  {
   "cell_type": "code",
   "execution_count": 72,
   "id": "055e7e51",
   "metadata": {},
   "outputs": [],
   "source": [
    "generated_labels = np.argmax(generated_labels, axis = -1)"
   ]
  },
  {
   "cell_type": "code",
   "execution_count": 49,
   "id": "37d2e4b9",
   "metadata": {},
   "outputs": [],
   "source": [
    "y_train = np.argmax(y_train, axis = -1)"
   ]
  },
  {
   "cell_type": "markdown",
   "id": "9883e073",
   "metadata": {},
   "source": [
    "## Building a simple classifier"
   ]
  },
  {
   "cell_type": "code",
   "execution_count": 73,
   "id": "747bc9a5",
   "metadata": {},
   "outputs": [],
   "source": [
    "def make_classifier():\n",
    "    classifier = Sequential([\n",
    "      layers.Flatten(input_shape=(28, 28, 1)),\n",
    "      layers.Dense(128, activation='relu'),\n",
    "      layers.Dense(10)\n",
    "    ])\n",
    "    classifier.compile(\n",
    "        optimizer=Adam(0.001),\n",
    "        loss=tf.keras.losses.SparseCategoricalCrossentropy(from_logits=True),\n",
    "        metrics=[tf.keras.metrics.SparseCategoricalAccuracy()],\n",
    "    )\n",
    "    return classifier"
   ]
  },
  {
   "cell_type": "code",
   "execution_count": 74,
   "id": "c7840f74",
   "metadata": {},
   "outputs": [],
   "source": [
    "classifier1 = make_classifier()\n",
    "classifier2 = make_classifier()"
   ]
  },
  {
   "cell_type": "markdown",
   "id": "ca772de5",
   "metadata": {},
   "source": [
    "## Training the classifier and testing it on real data"
   ]
  },
  {
   "cell_type": "code",
   "execution_count": 75,
   "id": "b73e8728",
   "metadata": {
    "scrolled": true
   },
   "outputs": [
    {
     "name": "stdout",
     "output_type": "stream",
     "text": [
      "Epoch 1/10\n",
      "118/118 [==============================] - 1s 5ms/step - loss: 0.5770 - sparse_categorical_accuracy: 0.8272 - val_loss: 39.9093 - val_sparse_categorical_accuracy: 0.7425\n",
      "Epoch 2/10\n",
      "118/118 [==============================] - 0s 3ms/step - loss: 0.2879 - sparse_categorical_accuracy: 0.9176 - val_loss: 30.9943 - val_sparse_categorical_accuracy: 0.8106\n",
      "Epoch 3/10\n",
      "118/118 [==============================] - 0s 3ms/step - loss: 0.2288 - sparse_categorical_accuracy: 0.9350 - val_loss: 27.0759 - val_sparse_categorical_accuracy: 0.8496\n",
      "Epoch 4/10\n",
      "118/118 [==============================] - 0s 4ms/step - loss: 0.1926 - sparse_categorical_accuracy: 0.9454 - val_loss: 23.4471 - val_sparse_categorical_accuracy: 0.8750\n",
      "Epoch 5/10\n",
      "118/118 [==============================] - 0s 3ms/step - loss: 0.1632 - sparse_categorical_accuracy: 0.9536 - val_loss: 22.4239 - val_sparse_categorical_accuracy: 0.8837\n",
      "Epoch 6/10\n",
      "118/118 [==============================] - 0s 3ms/step - loss: 0.1434 - sparse_categorical_accuracy: 0.9588 - val_loss: 24.3028 - val_sparse_categorical_accuracy: 0.8787\n",
      "Epoch 7/10\n",
      "118/118 [==============================] - 1s 4ms/step - loss: 0.1281 - sparse_categorical_accuracy: 0.9638 - val_loss: 22.6868 - val_sparse_categorical_accuracy: 0.8886\n",
      "Epoch 8/10\n",
      "118/118 [==============================] - 0s 3ms/step - loss: 0.1161 - sparse_categorical_accuracy: 0.9670 - val_loss: 19.8608 - val_sparse_categorical_accuracy: 0.9055\n",
      "Epoch 9/10\n",
      "118/118 [==============================] - 0s 2ms/step - loss: 0.1062 - sparse_categorical_accuracy: 0.9695 - val_loss: 28.1456 - val_sparse_categorical_accuracy: 0.8759\n",
      "Epoch 10/10\n",
      "118/118 [==============================] - 0s 2ms/step - loss: 0.0968 - sparse_categorical_accuracy: 0.9727 - val_loss: 23.1797 - val_sparse_categorical_accuracy: 0.8954\n"
     ]
    },
    {
     "data": {
      "text/plain": [
       "<keras.callbacks.History at 0x1efed4df850>"
      ]
     },
     "execution_count": 75,
     "metadata": {},
     "output_type": "execute_result"
    }
   ],
   "source": [
    "# training on real data\n",
    "classifier1.fit(x_train, y_train, epochs = 10, batch_size = batch_size, validation_data=(x_test, y_test))"
   ]
  },
  {
   "cell_type": "code",
   "execution_count": 76,
   "id": "db01a1bc",
   "metadata": {},
   "outputs": [
    {
     "name": "stdout",
     "output_type": "stream",
     "text": [
      "Epoch 1/10\n",
      "118/118 [==============================] - 1s 5ms/step - loss: 0.4675 - sparse_categorical_accuracy: 0.8605 - val_loss: 31.6447 - val_sparse_categorical_accuracy: 0.7849\n",
      "Epoch 2/10\n",
      "118/118 [==============================] - 0s 3ms/step - loss: 0.1963 - sparse_categorical_accuracy: 0.9429 - val_loss: 26.6975 - val_sparse_categorical_accuracy: 0.8377\n",
      "Epoch 3/10\n",
      "118/118 [==============================] - 0s 3ms/step - loss: 0.1435 - sparse_categorical_accuracy: 0.9585 - val_loss: 25.1512 - val_sparse_categorical_accuracy: 0.8583\n",
      "Epoch 4/10\n",
      "118/118 [==============================] - 0s 3ms/step - loss: 0.1140 - sparse_categorical_accuracy: 0.9671 - val_loss: 24.7255 - val_sparse_categorical_accuracy: 0.8691\n",
      "Epoch 5/10\n",
      "118/118 [==============================] - 0s 3ms/step - loss: 0.0927 - sparse_categorical_accuracy: 0.9729 - val_loss: 24.4235 - val_sparse_categorical_accuracy: 0.8815\n",
      "Epoch 6/10\n",
      "118/118 [==============================] - 0s 3ms/step - loss: 0.0766 - sparse_categorical_accuracy: 0.9776 - val_loss: 27.6572 - val_sparse_categorical_accuracy: 0.8750\n",
      "Epoch 7/10\n",
      "118/118 [==============================] - 0s 3ms/step - loss: 0.0665 - sparse_categorical_accuracy: 0.9807 - val_loss: 27.2414 - val_sparse_categorical_accuracy: 0.8844\n",
      "Epoch 8/10\n",
      "118/118 [==============================] - 0s 3ms/step - loss: 0.0559 - sparse_categorical_accuracy: 0.9839 - val_loss: 28.3723 - val_sparse_categorical_accuracy: 0.8834\n",
      "Epoch 9/10\n",
      "118/118 [==============================] - 0s 2ms/step - loss: 0.0486 - sparse_categorical_accuracy: 0.9862 - val_loss: 29.0099 - val_sparse_categorical_accuracy: 0.8844\n",
      "Epoch 10/10\n",
      "118/118 [==============================] - 0s 2ms/step - loss: 0.0436 - sparse_categorical_accuracy: 0.9878 - val_loss: 31.3830 - val_sparse_categorical_accuracy: 0.8812\n"
     ]
    },
    {
     "data": {
      "text/plain": [
       "<keras.callbacks.History at 0x1efed378e50>"
      ]
     },
     "execution_count": 76,
     "metadata": {},
     "output_type": "execute_result"
    }
   ],
   "source": [
    "# training on generated data\n",
    "classifier2.fit(generated_images, generated_labels, epochs = 10, batch_size = batch_size, validation_data=(x_test, y_test))"
   ]
  },
  {
   "cell_type": "code",
   "execution_count": null,
   "id": "c0469946",
   "metadata": {},
   "outputs": [],
   "source": []
  }
 ],
 "metadata": {
  "kernelspec": {
   "display_name": "Python 3 (ipykernel)",
   "language": "python",
   "name": "python3"
  },
  "language_info": {
   "codemirror_mode": {
    "name": "ipython",
    "version": 3
   },
   "file_extension": ".py",
   "mimetype": "text/x-python",
   "name": "python",
   "nbconvert_exporter": "python",
   "pygments_lexer": "ipython3",
   "version": "3.10.5"
  }
 },
 "nbformat": 4,
 "nbformat_minor": 5
}
