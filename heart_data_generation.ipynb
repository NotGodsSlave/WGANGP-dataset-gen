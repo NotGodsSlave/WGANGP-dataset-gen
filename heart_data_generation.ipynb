{
 "cells": [
  {
   "cell_type": "code",
   "execution_count": 1,
   "id": "87fb0ce9",
   "metadata": {},
   "outputs": [],
   "source": [
    "import numpy as np\n",
    "import pandas as pd\n",
    "import tensorflow as tf\n",
    "\n",
    "from tensorflow import keras\n",
    "from keras.optimizers import Adam\n",
    "\n",
    "from matplotlib import pyplot as plt\n",
    "from wasserstein_loss import wasserstein_generator_loss, wasserstein_discriminator_loss\n",
    "from tabular_wgan_gp import tabularWGANGP\n",
    "from tabular_discriminator import build_discriminator\n",
    "from tabular_generator import build_generator"
   ]
  },
  {
   "cell_type": "code",
   "execution_count": 2,
   "id": "635e1b07",
   "metadata": {},
   "outputs": [],
   "source": [
    "import warnings\n",
    "warnings.filterwarnings('ignore')"
   ]
  },
  {
   "cell_type": "markdown",
   "id": "1565560c",
   "metadata": {},
   "source": [
    "## Building the model"
   ]
  },
  {
   "cell_type": "code",
   "execution_count": 3,
   "id": "1dce37aa",
   "metadata": {},
   "outputs": [],
   "source": [
    "latent_dim = 32\n",
    "out_shape = 13\n",
    "num_classes = 2"
   ]
  },
  {
   "cell_type": "code",
   "execution_count": 4,
   "id": "754951e6",
   "metadata": {},
   "outputs": [],
   "source": [
    "generator = build_generator(latent_dim = latent_dim, num_classes = num_classes, out_shape = out_shape, layers_dim=[256,512])"
   ]
  },
  {
   "cell_type": "code",
   "execution_count": 5,
   "id": "ed233a88",
   "metadata": {},
   "outputs": [],
   "source": [
    "discriminator = build_discriminator(out_shape = out_shape, num_classes = num_classes, layers_dim=[512,256])"
   ]
  },
  {
   "cell_type": "code",
   "execution_count": 6,
   "id": "7a702fe8",
   "metadata": {},
   "outputs": [],
   "source": [
    "model = tabularWGANGP(generator, discriminator, latent_dim = latent_dim, out_shape = out_shape,\n",
    "                     num_classes = num_classes, d_steps=10)\n",
    "model.compile(    \n",
    "    discriminator_optimizer=Adam(learning_rate=2e-4,beta_1=0.5,beta_2=0.9),\n",
    "    generator_optimizer=Adam(learning_rate=2e-4,beta_1=0.5,beta_2=0.9),\n",
    "    discriminator_loss = wasserstein_discriminator_loss,\n",
    "    generator_loss = wasserstein_generator_loss\n",
    ")"
   ]
  },
  {
   "cell_type": "markdown",
   "id": "175461d9",
   "metadata": {},
   "source": [
    "## Reading and preprocessing the data"
   ]
  },
  {
   "cell_type": "code",
   "execution_count": 7,
   "id": "1b7f06ed",
   "metadata": {},
   "outputs": [
    {
     "data": {
      "text/plain": [
       "(303, 14)"
      ]
     },
     "execution_count": 7,
     "metadata": {},
     "output_type": "execute_result"
    }
   ],
   "source": [
    "df = pd.read_csv('data/original/heart.csv')\n",
    "df.shape"
   ]
  },
  {
   "cell_type": "code",
   "execution_count": 8,
   "id": "fe5077bf",
   "metadata": {},
   "outputs": [],
   "source": [
    "from sklearn.model_selection import train_test_split\n",
    "from sklearn import preprocessing\n",
    "y = df[\"output\"].values\n",
    "x = df.drop([\"output\"],1)\n",
    "scaler = preprocessing.StandardScaler()\n",
    "x = scaler.fit_transform(x)\n",
    "x_train, x_test, y_train, y_test = train_test_split(x, y, test_size=0.2)"
   ]
  },
  {
   "cell_type": "code",
   "execution_count": 9,
   "id": "eb5d0aa9",
   "metadata": {},
   "outputs": [],
   "source": [
    "# setting up constants\n",
    "epochs = 100\n",
    "batch_size = 32"
   ]
  },
  {
   "cell_type": "code",
   "execution_count": 10,
   "id": "4ee29518",
   "metadata": {},
   "outputs": [],
   "source": [
    "y_train = keras.utils.to_categorical(y_train,num_classes)\n",
    "dataset = tf.data.Dataset.from_tensor_slices((x_train,y_train))\n",
    "dataset = dataset.shuffle(buffer_size=128).batch(batch_size)"
   ]
  },
  {
   "cell_type": "code",
   "execution_count": 11,
   "id": "3bd5e29a",
   "metadata": {},
   "outputs": [
    {
     "name": "stdout",
     "output_type": "stream",
     "text": [
      "Epoch 1/100\n",
      "8/8 [==============================] - 5s 33ms/step - g_loss: 0.0668 - d_loss: 5.1179\n",
      "Epoch 2/100\n",
      "8/8 [==============================] - 0s 31ms/step - g_loss: 0.1310 - d_loss: 0.0567\n",
      "Epoch 3/100\n",
      "8/8 [==============================] - 0s 30ms/step - g_loss: 0.2629 - d_loss: -0.4907\n",
      "Epoch 4/100\n",
      "8/8 [==============================] - 0s 34ms/step - g_loss: 0.0929 - d_loss: -0.8867\n",
      "Epoch 5/100\n",
      "8/8 [==============================] - 0s 29ms/step - g_loss: -0.3856 - d_loss: -1.2392\n",
      "Epoch 6/100\n",
      "8/8 [==============================] - 0s 32ms/step - g_loss: -0.7564 - d_loss: -1.5168\n",
      "Epoch 7/100\n",
      "8/8 [==============================] - 0s 28ms/step - g_loss: -0.5598 - d_loss: -1.7510\n",
      "Epoch 8/100\n",
      "8/8 [==============================] - 0s 31ms/step - g_loss: -0.3852 - d_loss: -1.6384\n",
      "Epoch 9/100\n",
      "8/8 [==============================] - 0s 30ms/step - g_loss: -0.3460 - d_loss: -1.6232\n",
      "Epoch 10/100\n",
      "8/8 [==============================] - 0s 33ms/step - g_loss: -0.4114 - d_loss: -1.5244\n",
      "Epoch 11/100\n",
      "8/8 [==============================] - 0s 31ms/step - g_loss: -0.2208 - d_loss: -1.4932\n",
      "Epoch 12/100\n",
      "8/8 [==============================] - 0s 31ms/step - g_loss: -0.4025 - d_loss: -1.4718\n",
      "Epoch 13/100\n",
      "8/8 [==============================] - 0s 29ms/step - g_loss: -0.4311 - d_loss: -1.4750\n",
      "Epoch 14/100\n",
      "8/8 [==============================] - 0s 27ms/step - g_loss: -0.3741 - d_loss: -1.4692\n",
      "Epoch 15/100\n",
      "8/8 [==============================] - 0s 35ms/step - g_loss: -0.2468 - d_loss: -1.3961\n",
      "Epoch 16/100\n",
      "8/8 [==============================] - 0s 30ms/step - g_loss: -0.1812 - d_loss: -1.3580\n",
      "Epoch 17/100\n",
      "8/8 [==============================] - 0s 30ms/step - g_loss: -0.1160 - d_loss: -1.2984\n",
      "Epoch 18/100\n",
      "8/8 [==============================] - 0s 32ms/step - g_loss: 0.0559 - d_loss: -1.2758\n",
      "Epoch 19/100\n",
      "8/8 [==============================] - 0s 31ms/step - g_loss: 0.3243 - d_loss: -1.3718\n",
      "Epoch 20/100\n",
      "8/8 [==============================] - 0s 37ms/step - g_loss: 0.4123 - d_loss: -1.3060\n",
      "Epoch 21/100\n",
      "8/8 [==============================] - 0s 28ms/step - g_loss: 0.5530 - d_loss: -1.2288\n",
      "Epoch 22/100\n",
      "8/8 [==============================] - 0s 38ms/step - g_loss: 0.8692 - d_loss: -1.2604\n",
      "Epoch 23/100\n",
      "8/8 [==============================] - 0s 31ms/step - g_loss: 1.1166 - d_loss: -1.2941\n",
      "Epoch 24/100\n",
      "8/8 [==============================] - 0s 35ms/step - g_loss: 1.4622 - d_loss: -1.3436\n",
      "Epoch 25/100\n",
      "8/8 [==============================] - 0s 34ms/step - g_loss: 1.5717 - d_loss: -1.2995\n",
      "Epoch 26/100\n",
      "8/8 [==============================] - 0s 31ms/step - g_loss: 1.8783 - d_loss: -1.2913\n",
      "Epoch 27/100\n",
      "8/8 [==============================] - 0s 27ms/step - g_loss: 2.1212 - d_loss: -1.3679\n",
      "Epoch 28/100\n",
      "8/8 [==============================] - 0s 31ms/step - g_loss: 2.3702 - d_loss: -1.2544\n",
      "Epoch 29/100\n",
      "8/8 [==============================] - 0s 35ms/step - g_loss: 2.4985 - d_loss: -1.2308\n",
      "Epoch 30/100\n",
      "8/8 [==============================] - 0s 29ms/step - g_loss: 2.8323 - d_loss: -1.2863\n",
      "Epoch 31/100\n",
      "8/8 [==============================] - 0s 28ms/step - g_loss: 3.1161 - d_loss: -1.3131\n",
      "Epoch 32/100\n",
      "8/8 [==============================] - 0s 27ms/step - g_loss: 3.1106 - d_loss: -1.3290\n",
      "Epoch 33/100\n",
      "8/8 [==============================] - 0s 29ms/step - g_loss: 3.2922 - d_loss: -1.2127\n",
      "Epoch 34/100\n",
      "8/8 [==============================] - 0s 28ms/step - g_loss: 3.2551 - d_loss: -1.3389\n",
      "Epoch 35/100\n",
      "8/8 [==============================] - 0s 29ms/step - g_loss: 3.3805 - d_loss: -1.2605\n",
      "Epoch 36/100\n",
      "8/8 [==============================] - 0s 32ms/step - g_loss: 3.6824 - d_loss: -1.2554\n",
      "Epoch 37/100\n",
      "8/8 [==============================] - 0s 28ms/step - g_loss: 3.8201 - d_loss: -1.2451\n",
      "Epoch 38/100\n",
      "8/8 [==============================] - 0s 28ms/step - g_loss: 3.8910 - d_loss: -1.2304\n",
      "Epoch 39/100\n",
      "8/8 [==============================] - 0s 29ms/step - g_loss: 4.1756 - d_loss: -1.2432\n",
      "Epoch 40/100\n",
      "8/8 [==============================] - 0s 30ms/step - g_loss: 4.2767 - d_loss: -1.2568\n",
      "Epoch 41/100\n",
      "8/8 [==============================] - 0s 29ms/step - g_loss: 4.3821 - d_loss: -1.3233\n",
      "Epoch 42/100\n",
      "8/8 [==============================] - 0s 29ms/step - g_loss: 4.5620 - d_loss: -1.2955\n",
      "Epoch 43/100\n",
      "8/8 [==============================] - 0s 28ms/step - g_loss: 4.7582 - d_loss: -1.3015\n",
      "Epoch 44/100\n",
      "8/8 [==============================] - 0s 29ms/step - g_loss: 4.7570 - d_loss: -1.2963\n",
      "Epoch 45/100\n",
      "8/8 [==============================] - 0s 30ms/step - g_loss: 4.8576 - d_loss: -1.2427\n",
      "Epoch 46/100\n",
      "8/8 [==============================] - 0s 28ms/step - g_loss: 5.0588 - d_loss: -1.3063\n",
      "Epoch 47/100\n",
      "8/8 [==============================] - 0s 29ms/step - g_loss: 5.1733 - d_loss: -1.2178\n",
      "Epoch 48/100\n",
      "8/8 [==============================] - 0s 30ms/step - g_loss: 5.2576 - d_loss: -1.2797\n",
      "Epoch 49/100\n",
      "8/8 [==============================] - 0s 28ms/step - g_loss: 5.4535 - d_loss: -1.2084\n",
      "Epoch 50/100\n",
      "8/8 [==============================] - 0s 27ms/step - g_loss: 5.6956 - d_loss: -1.2595\n",
      "Epoch 51/100\n",
      "8/8 [==============================] - 0s 27ms/step - g_loss: 5.7761 - d_loss: -1.3344\n",
      "Epoch 52/100\n",
      "8/8 [==============================] - 0s 27ms/step - g_loss: 5.8474 - d_loss: -1.3081\n",
      "Epoch 53/100\n",
      "8/8 [==============================] - 0s 27ms/step - g_loss: 6.0828 - d_loss: -1.3029\n",
      "Epoch 54/100\n",
      "8/8 [==============================] - 0s 26ms/step - g_loss: 6.2874 - d_loss: -1.3365\n",
      "Epoch 55/100\n",
      "8/8 [==============================] - 0s 29ms/step - g_loss: 6.3508 - d_loss: -1.3060\n",
      "Epoch 56/100\n",
      "8/8 [==============================] - 0s 27ms/step - g_loss: 6.5801 - d_loss: -1.3085\n",
      "Epoch 57/100\n",
      "8/8 [==============================] - 0s 28ms/step - g_loss: 6.6590 - d_loss: -1.3012\n",
      "Epoch 58/100\n",
      "8/8 [==============================] - 0s 26ms/step - g_loss: 6.6690 - d_loss: -1.2430\n",
      "Epoch 59/100\n",
      "8/8 [==============================] - 0s 29ms/step - g_loss: 6.8574 - d_loss: -1.2969\n",
      "Epoch 60/100\n",
      "8/8 [==============================] - 0s 30ms/step - g_loss: 6.9326 - d_loss: -1.3481\n",
      "Epoch 61/100\n",
      "8/8 [==============================] - 0s 29ms/step - g_loss: 6.9576 - d_loss: -1.2611\n",
      "Epoch 62/100\n",
      "8/8 [==============================] - 0s 33ms/step - g_loss: 7.0768 - d_loss: -1.2446\n",
      "Epoch 63/100\n",
      "8/8 [==============================] - 0s 29ms/step - g_loss: 7.0813 - d_loss: -1.3945\n",
      "Epoch 64/100\n",
      "8/8 [==============================] - 0s 27ms/step - g_loss: 7.0948 - d_loss: -1.2192\n",
      "Epoch 65/100\n",
      "8/8 [==============================] - 0s 26ms/step - g_loss: 7.4292 - d_loss: -1.2181\n",
      "Epoch 66/100\n",
      "8/8 [==============================] - 0s 27ms/step - g_loss: 7.3119 - d_loss: -1.2440\n",
      "Epoch 67/100\n",
      "8/8 [==============================] - 0s 28ms/step - g_loss: 7.3553 - d_loss: -1.3028\n",
      "Epoch 68/100\n",
      "8/8 [==============================] - 0s 25ms/step - g_loss: 7.5327 - d_loss: -1.2825\n",
      "Epoch 69/100\n",
      "8/8 [==============================] - 0s 28ms/step - g_loss: 7.4810 - d_loss: -1.2692\n",
      "Epoch 70/100\n",
      "8/8 [==============================] - 0s 27ms/step - g_loss: 7.6569 - d_loss: -1.3152\n",
      "Epoch 71/100\n",
      "8/8 [==============================] - 0s 30ms/step - g_loss: 7.7560 - d_loss: -1.2975\n",
      "Epoch 72/100\n",
      "8/8 [==============================] - 0s 28ms/step - g_loss: 7.8512 - d_loss: -1.3078\n",
      "Epoch 73/100\n",
      "8/8 [==============================] - 0s 32ms/step - g_loss: 7.8769 - d_loss: -1.2442\n",
      "Epoch 74/100\n",
      "8/8 [==============================] - 0s 38ms/step - g_loss: 7.7744 - d_loss: -1.3109\n",
      "Epoch 75/100\n",
      "8/8 [==============================] - 0s 27ms/step - g_loss: 7.9877 - d_loss: -1.2696\n",
      "Epoch 76/100\n",
      "8/8 [==============================] - 0s 29ms/step - g_loss: 8.1472 - d_loss: -1.2735\n",
      "Epoch 77/100\n",
      "8/8 [==============================] - 0s 30ms/step - g_loss: 8.2225 - d_loss: -1.3019\n",
      "Epoch 78/100\n",
      "8/8 [==============================] - 0s 26ms/step - g_loss: 8.2606 - d_loss: -1.3471\n",
      "Epoch 79/100\n",
      "8/8 [==============================] - 0s 28ms/step - g_loss: 8.3361 - d_loss: -1.3675\n",
      "Epoch 80/100\n",
      "8/8 [==============================] - 0s 28ms/step - g_loss: 8.5319 - d_loss: -1.2899\n",
      "Epoch 81/100\n",
      "8/8 [==============================] - 0s 25ms/step - g_loss: 8.6089 - d_loss: -1.3258\n",
      "Epoch 82/100\n",
      "8/8 [==============================] - 0s 32ms/step - g_loss: 8.5574 - d_loss: -1.3255\n",
      "Epoch 83/100\n",
      "8/8 [==============================] - 0s 25ms/step - g_loss: 8.5754 - d_loss: -1.3655\n",
      "Epoch 84/100\n",
      "8/8 [==============================] - 0s 27ms/step - g_loss: 8.7418 - d_loss: -1.3362\n",
      "Epoch 85/100\n",
      "8/8 [==============================] - 0s 26ms/step - g_loss: 8.7227 - d_loss: -1.2945\n",
      "Epoch 86/100\n",
      "8/8 [==============================] - 0s 26ms/step - g_loss: 8.7914 - d_loss: -1.3283\n",
      "Epoch 87/100\n",
      "8/8 [==============================] - 0s 26ms/step - g_loss: 8.9525 - d_loss: -1.4023\n",
      "Epoch 88/100\n",
      "8/8 [==============================] - 0s 25ms/step - g_loss: 9.1988 - d_loss: -1.3075\n",
      "Epoch 89/100\n",
      "8/8 [==============================] - 0s 27ms/step - g_loss: 9.0245 - d_loss: -1.3001\n",
      "Epoch 90/100\n",
      "8/8 [==============================] - 0s 28ms/step - g_loss: 9.1507 - d_loss: -1.3562\n",
      "Epoch 91/100\n",
      "8/8 [==============================] - 0s 27ms/step - g_loss: 9.2818 - d_loss: -1.3536\n",
      "Epoch 92/100\n",
      "8/8 [==============================] - 0s 26ms/step - g_loss: 9.4371 - d_loss: -1.3273\n",
      "Epoch 93/100\n",
      "8/8 [==============================] - 0s 29ms/step - g_loss: 9.4934 - d_loss: -1.3595\n",
      "Epoch 94/100\n",
      "8/8 [==============================] - 0s 25ms/step - g_loss: 9.4762 - d_loss: -1.3995\n",
      "Epoch 95/100\n",
      "8/8 [==============================] - 0s 30ms/step - g_loss: 9.5269 - d_loss: -1.3113\n",
      "Epoch 96/100\n",
      "8/8 [==============================] - 0s 25ms/step - g_loss: 9.7822 - d_loss: -1.2905\n",
      "Epoch 97/100\n",
      "8/8 [==============================] - 0s 27ms/step - g_loss: 9.8609 - d_loss: -1.3576\n",
      "Epoch 98/100\n",
      "8/8 [==============================] - 0s 26ms/step - g_loss: 9.9508 - d_loss: -1.4066\n",
      "Epoch 99/100\n",
      "8/8 [==============================] - 0s 26ms/step - g_loss: 9.9377 - d_loss: -1.3146\n",
      "Epoch 100/100\n",
      "8/8 [==============================] - 0s 26ms/step - g_loss: 9.9365 - d_loss: -1.2946\n"
     ]
    },
    {
     "data": {
      "text/plain": [
       "<keras.callbacks.History at 0x19bbbbdd7b0>"
      ]
     },
     "execution_count": 11,
     "metadata": {},
     "output_type": "execute_result"
    }
   ],
   "source": [
    "model.fit(dataset, epochs = epochs)"
   ]
  },
  {
   "cell_type": "markdown",
   "id": "6b317b5d",
   "metadata": {},
   "source": [
    "## Evaluating the results"
   ]
  },
  {
   "cell_type": "code",
   "execution_count": 12,
   "id": "343effdd",
   "metadata": {},
   "outputs": [],
   "source": [
    "y_train = np.argmax(y_train, axis = -1)"
   ]
  },
  {
   "cell_type": "code",
   "execution_count": 23,
   "id": "50a848b2",
   "metadata": {},
   "outputs": [
    {
     "name": "stdout",
     "output_type": "stream",
     "text": [
      "              precision    recall  f1-score   support\n",
      "\n",
      "           0       0.86      0.70      0.78        27\n",
      "           1       0.79      0.91      0.85        34\n",
      "\n",
      "    accuracy                           0.82        61\n",
      "   macro avg       0.83      0.81      0.81        61\n",
      "weighted avg       0.83      0.82      0.82        61\n",
      "\n"
     ]
    },
    {
     "data": {
      "image/png": "[encoded data removed]",
      "text/plain": [
       "<Figure size 640x480 with 2 Axes>"
      ]
     },
     "metadata": {},
     "output_type": "display_data"
    }
   ],
   "source": [
    "from sklearn.ensemble import RandomForestClassifier\n",
    "from sklearn.metrics import precision_score, recall_score, f1_score,\\\n",
    "                            accuracy_score, balanced_accuracy_score,classification_report,\\\n",
    "                            plot_confusion_matrix, confusion_matrix\n",
    "\n",
    "# first train a random forest classifier on the original data\n",
    "rf = RandomForestClassifier(n_estimators = 100, random_state = 42)\n",
    "rf.fit(x_train,y_train)\n",
    "\n",
    "y_pred = rf.predict(x_test)\n",
    "\n",
    "# evaluation\n",
    "print(classification_report(y_test, y_pred))\n",
    "plot_confusion_matrix(rf, x_test, y_test)\n",
    "plt.show()"
   ]
  },
  {
   "cell_type": "code",
   "execution_count": 21,
   "id": "bc9e6fa3",
   "metadata": {},
   "outputs": [
    {
     "data": {
      "text/plain": [
       "1    165\n",
       "0    138\n",
       "Name: output, dtype: int64"
      ]
     },
     "execution_count": 21,
     "metadata": {},
     "output_type": "execute_result"
    }
   ],
   "source": [
    "df[\"output\"].value_counts()"
   ]
  },
  {
   "cell_type": "code",
   "execution_count": 15,
   "id": "7899b0f0",
   "metadata": {},
   "outputs": [
    {
     "name": "stdout",
     "output_type": "stream",
     "text": [
      "6/6 [==============================] - 0s 2ms/step\n",
      "5/5 [==============================] - 0s 2ms/step\n"
     ]
    }
   ],
   "source": [
    "# generate data using trained model\n",
    "noise = np.random.normal(0, 1, (165, latent_dim))\n",
    "sampled_labels = np.zeros(165).reshape(-1, 1)\n",
    "sampled_labels = keras.utils.to_categorical(sampled_labels,num_classes)\n",
    "\n",
    "gen_samples = model.generator.predict([noise, sampled_labels])\n",
    "\n",
    "gen_df = pd.DataFrame(data = gen_samples,\n",
    "                      columns = df.drop('output',1).columns)\n",
    "\n",
    "noise_2 = np.random.normal(0, 1, (138, latent_dim))\n",
    "sampled_labels_2 = np.ones(138).reshape(-1, 1)\n",
    "sampled_labels_2 = keras.utils.to_categorical(sampled_labels_2,2)\n",
    "\n",
    "gen_samples_2 = model.generator.predict([noise_2, sampled_labels_2])\n",
    "\n",
    "gen_df_2 = pd.DataFrame(data = gen_samples_2,\n",
    "                      columns = df.drop('output',1).columns)\n",
    "\n",
    "gen_df_2['output'] = 1\n",
    "gen_df['output']=0\n",
    "\n",
    "df_gan = pd.concat([gen_df_2, gen_df], ignore_index=True, sort=False)\n",
    "df_gan = df_gan.sample(frac=1).reset_index(drop=True)\n",
    "\n",
    "x_train_2 = df_gan.drop('output', 1)\n",
    "y_train_2 = df_gan['output'].values"
   ]
  },
  {
   "cell_type": "code",
   "execution_count": 16,
   "id": "5979dee5",
   "metadata": {},
   "outputs": [
    {
     "data": {
      "text/html": [
       "<div>\n",
       "<style scoped>\n",
       "    .dataframe tbody tr th:only-of-type {\n",
       "        vertical-align: middle;\n",
       "    }\n",
       "\n",
       "    .dataframe tbody tr th {\n",
       "        vertical-align: top;\n",
       "    }\n",
       "\n",
       "    .dataframe thead th {\n",
       "        text-align: right;\n",
       "    }\n",
       "</style>\n",
       "<table border=\"1\" class=\"dataframe\">\n",
       "  <thead>\n",
       "    <tr style=\"text-align: right;\">\n",
       "      <th></th>\n",
       "      <th>age</th>\n",
       "      <th>sex</th>\n",
       "      <th>cp</th>\n",
       "      <th>trtbps</th>\n",
       "      <th>chol</th>\n",
       "      <th>fbs</th>\n",
       "      <th>restecg</th>\n",
       "      <th>thalachh</th>\n",
       "      <th>exng</th>\n",
       "      <th>oldpeak</th>\n",
       "      <th>slp</th>\n",
       "      <th>caa</th>\n",
       "      <th>thall</th>\n",
       "    </tr>\n",
       "  </thead>\n",
       "  <tbody>\n",
       "    <tr>\n",
       "      <th>0</th>\n",
       "      <td>-0.827152</td>\n",
       "      <td>-0.999740</td>\n",
       "      <td>-0.973407</td>\n",
       "      <td>-0.926143</td>\n",
       "      <td>0.743938</td>\n",
       "      <td>-0.274923</td>\n",
       "      <td>0.999960</td>\n",
       "      <td>0.884413</td>\n",
       "      <td>-0.971958</td>\n",
       "      <td>-0.986676</td>\n",
       "      <td>0.977424</td>\n",
       "      <td>-0.990939</td>\n",
       "      <td>0.763021</td>\n",
       "    </tr>\n",
       "    <tr>\n",
       "      <th>1</th>\n",
       "      <td>0.997940</td>\n",
       "      <td>0.525807</td>\n",
       "      <td>0.995617</td>\n",
       "      <td>0.988310</td>\n",
       "      <td>-0.962681</td>\n",
       "      <td>-0.228074</td>\n",
       "      <td>-0.014629</td>\n",
       "      <td>-0.993463</td>\n",
       "      <td>-0.838733</td>\n",
       "      <td>0.477194</td>\n",
       "      <td>0.403582</td>\n",
       "      <td>-0.554400</td>\n",
       "      <td>0.231919</td>\n",
       "    </tr>\n",
       "    <tr>\n",
       "      <th>2</th>\n",
       "      <td>0.993861</td>\n",
       "      <td>0.760000</td>\n",
       "      <td>-0.520716</td>\n",
       "      <td>-0.127718</td>\n",
       "      <td>-0.988010</td>\n",
       "      <td>-0.253810</td>\n",
       "      <td>0.990019</td>\n",
       "      <td>-0.999665</td>\n",
       "      <td>0.959377</td>\n",
       "      <td>0.985295</td>\n",
       "      <td>-0.942733</td>\n",
       "      <td>0.996073</td>\n",
       "      <td>0.955121</td>\n",
       "    </tr>\n",
       "    <tr>\n",
       "      <th>3</th>\n",
       "      <td>0.999708</td>\n",
       "      <td>-0.972539</td>\n",
       "      <td>0.997498</td>\n",
       "      <td>-0.994842</td>\n",
       "      <td>-0.974048</td>\n",
       "      <td>-0.514560</td>\n",
       "      <td>0.935555</td>\n",
       "      <td>-0.999209</td>\n",
       "      <td>-0.998379</td>\n",
       "      <td>0.409141</td>\n",
       "      <td>0.790883</td>\n",
       "      <td>0.854692</td>\n",
       "      <td>-0.257850</td>\n",
       "    </tr>\n",
       "    <tr>\n",
       "      <th>4</th>\n",
       "      <td>0.998867</td>\n",
       "      <td>-0.997801</td>\n",
       "      <td>0.329501</td>\n",
       "      <td>-0.199610</td>\n",
       "      <td>-0.043713</td>\n",
       "      <td>-0.136034</td>\n",
       "      <td>-0.967186</td>\n",
       "      <td>-0.183655</td>\n",
       "      <td>-0.559315</td>\n",
       "      <td>0.975302</td>\n",
       "      <td>-0.998975</td>\n",
       "      <td>-0.407816</td>\n",
       "      <td>0.620658</td>\n",
       "    </tr>\n",
       "  </tbody>\n",
       "</table>\n",
       "</div>"
      ],
      "text/plain": [
       "        age       sex        cp    trtbps      chol       fbs   restecg  \\\n",
       "0 -0.827152 -0.999740 -0.973407 -0.926143  0.743938 -0.274923  0.999960   \n",
       "1  0.997940  0.525807  0.995617  0.988310 -0.962681 -0.228074 -0.014629   \n",
       "2  0.993861  0.760000 -0.520716 -0.127718 -0.988010 -0.253810  0.990019   \n",
       "3  0.999708 -0.972539  0.997498 -0.994842 -0.974048 -0.514560  0.935555   \n",
       "4  0.998867 -0.997801  0.329501 -0.199610 -0.043713 -0.136034 -0.967186   \n",
       "\n",
       "   thalachh      exng   oldpeak       slp       caa     thall  \n",
       "0  0.884413 -0.971958 -0.986676  0.977424 -0.990939  0.763021  \n",
       "1 -0.993463 -0.838733  0.477194  0.403582 -0.554400  0.231919  \n",
       "2 -0.999665  0.959377  0.985295 -0.942733  0.996073  0.955121  \n",
       "3 -0.999209 -0.998379  0.409141  0.790883  0.854692 -0.257850  \n",
       "4 -0.183655 -0.559315  0.975302 -0.998975 -0.407816  0.620658  "
      ]
     },
     "execution_count": 16,
     "metadata": {},
     "output_type": "execute_result"
    }
   ],
   "source": [
    "x_train_2.head()"
   ]
  },
  {
   "cell_type": "code",
   "execution_count": 17,
   "id": "eb20215b",
   "metadata": {},
   "outputs": [
    {
     "name": "stdout",
     "output_type": "stream",
     "text": [
      "              precision    recall  f1-score   support\n",
      "\n",
      "           0       0.70      0.96      0.81        27\n",
      "           1       0.96      0.68      0.79        34\n",
      "\n",
      "    accuracy                           0.80        61\n",
      "   macro avg       0.83      0.82      0.80        61\n",
      "weighted avg       0.85      0.80      0.80        61\n",
      "\n"
     ]
    },
    {
     "data": {
      "image/png": "[encoded data removed]",
      "text/plain": [
       "<Figure size 640x480 with 2 Axes>"
      ]
     },
     "metadata": {},
     "output_type": "display_data"
    }
   ],
   "source": [
    "# now train a different instance of random forest classifier with the same parameters on generated data\n",
    "rf1 = RandomForestClassifier(n_estimators = 100, random_state = 42)\n",
    "rf1.fit(x_train_2,y_train_2)\n",
    "\n",
    "y_pred = rf1.predict(x_test)\n",
    "\n",
    "# evaluation\n",
    "print(classification_report(y_test, y_pred))\n",
    "plot_confusion_matrix(rf1, x_test, y_test)\n",
    "plt.show()"
   ]
  },
  {
   "cell_type": "markdown",
   "id": "e29e0114",
   "metadata": {},
   "source": [
    "## Distance measurement for generated data"
   ]
  },
  {
   "cell_type": "code",
   "execution_count": 18,
   "id": "c26861ba",
   "metadata": {},
   "outputs": [
    {
     "data": {
      "text/html": [
       "<div>\n",
       "<style scoped>\n",
       "    .dataframe tbody tr th:only-of-type {\n",
       "        vertical-align: middle;\n",
       "    }\n",
       "\n",
       "    .dataframe tbody tr th {\n",
       "        vertical-align: top;\n",
       "    }\n",
       "\n",
       "    .dataframe thead th {\n",
       "        text-align: right;\n",
       "    }\n",
       "</style>\n",
       "<table border=\"1\" class=\"dataframe\">\n",
       "  <thead>\n",
       "    <tr style=\"text-align: right;\">\n",
       "      <th></th>\n",
       "      <th>age</th>\n",
       "      <th>sex</th>\n",
       "      <th>cp</th>\n",
       "      <th>trtbps</th>\n",
       "      <th>chol</th>\n",
       "      <th>fbs</th>\n",
       "      <th>restecg</th>\n",
       "      <th>thalachh</th>\n",
       "      <th>exng</th>\n",
       "      <th>oldpeak</th>\n",
       "      <th>slp</th>\n",
       "      <th>caa</th>\n",
       "      <th>thall</th>\n",
       "    </tr>\n",
       "  </thead>\n",
       "  <tbody>\n",
       "    <tr>\n",
       "      <th>0</th>\n",
       "      <td>46.866463</td>\n",
       "      <td>0.218048</td>\n",
       "      <td>-0.035951</td>\n",
       "      <td>115.407753</td>\n",
       "      <td>284.759216</td>\n",
       "      <td>0.050750</td>\n",
       "      <td>1.053023</td>\n",
       "      <td>169.871033</td>\n",
       "      <td>-0.129134</td>\n",
       "      <td>-0.104109</td>\n",
       "      <td>2.000659</td>\n",
       "      <td>-0.282294</td>\n",
       "      <td>2.779939</td>\n",
       "    </tr>\n",
       "    <tr>\n",
       "      <th>1</th>\n",
       "      <td>63.414761</td>\n",
       "      <td>0.927796</td>\n",
       "      <td>1.992829</td>\n",
       "      <td>148.928253</td>\n",
       "      <td>196.449936</td>\n",
       "      <td>0.067409</td>\n",
       "      <td>0.520373</td>\n",
       "      <td>126.929024</td>\n",
       "      <td>-0.066649</td>\n",
       "      <td>1.592747</td>\n",
       "      <td>1.647627</td>\n",
       "      <td>0.163376</td>\n",
       "      <td>2.455296</td>\n",
       "    </tr>\n",
       "    <tr>\n",
       "      <th>2</th>\n",
       "      <td>63.377773</td>\n",
       "      <td>1.036751</td>\n",
       "      <td>0.430478</td>\n",
       "      <td>129.387527</td>\n",
       "      <td>195.139297</td>\n",
       "      <td>0.058258</td>\n",
       "      <td>1.047804</td>\n",
       "      <td>126.787186</td>\n",
       "      <td>0.776698</td>\n",
       "      <td>2.181716</td>\n",
       "      <td>0.819363</td>\n",
       "      <td>1.746281</td>\n",
       "      <td>2.897364</td>\n",
       "    </tr>\n",
       "    <tr>\n",
       "      <th>3</th>\n",
       "      <td>63.430794</td>\n",
       "      <td>0.230703</td>\n",
       "      <td>1.994767</td>\n",
       "      <td>114.204903</td>\n",
       "      <td>195.861740</td>\n",
       "      <td>-0.034468</td>\n",
       "      <td>1.019211</td>\n",
       "      <td>126.797607</td>\n",
       "      <td>-0.141526</td>\n",
       "      <td>1.513863</td>\n",
       "      <td>1.885898</td>\n",
       "      <td>1.601943</td>\n",
       "      <td>2.155917</td>\n",
       "    </tr>\n",
       "    <tr>\n",
       "      <th>4</th>\n",
       "      <td>63.423161</td>\n",
       "      <td>0.218950</td>\n",
       "      <td>1.306497</td>\n",
       "      <td>128.128754</td>\n",
       "      <td>244.002075</td>\n",
       "      <td>0.100140</td>\n",
       "      <td>0.020289</td>\n",
       "      <td>145.447174</td>\n",
       "      <td>0.064404</td>\n",
       "      <td>2.170132</td>\n",
       "      <td>0.784762</td>\n",
       "      <td>0.313026</td>\n",
       "      <td>2.692918</td>\n",
       "    </tr>\n",
       "  </tbody>\n",
       "</table>\n",
       "</div>"
      ],
      "text/plain": [
       "         age       sex        cp      trtbps        chol       fbs   restecg  \\\n",
       "0  46.866463  0.218048 -0.035951  115.407753  284.759216  0.050750  1.053023   \n",
       "1  63.414761  0.927796  1.992829  148.928253  196.449936  0.067409  0.520373   \n",
       "2  63.377773  1.036751  0.430478  129.387527  195.139297  0.058258  1.047804   \n",
       "3  63.430794  0.230703  1.994767  114.204903  195.861740 -0.034468  1.019211   \n",
       "4  63.423161  0.218950  1.306497  128.128754  244.002075  0.100140  0.020289   \n",
       "\n",
       "     thalachh      exng   oldpeak       slp       caa     thall  \n",
       "0  169.871033 -0.129134 -0.104109  2.000659 -0.282294  2.779939  \n",
       "1  126.929024 -0.066649  1.592747  1.647627  0.163376  2.455296  \n",
       "2  126.787186  0.776698  2.181716  0.819363  1.746281  2.897364  \n",
       "3  126.797607 -0.141526  1.513863  1.885898  1.601943  2.155917  \n",
       "4  145.447174  0.064404  2.170132  0.784762  0.313026  2.692918  "
      ]
     },
     "execution_count": 18,
     "metadata": {},
     "output_type": "execute_result"
    }
   ],
   "source": [
    "generated = scaler.inverse_transform(df_gan.drop(\"output\",1))\n",
    "generated_df = pd.DataFrame(data=generated,columns = df.drop(\"output\",1).columns)\n",
    "generated_df.head()"
   ]
  },
  {
   "cell_type": "code",
   "execution_count": 19,
   "id": "c4dad8ff",
   "metadata": {},
   "outputs": [
    {
     "data": {
      "image/png": "[encoded data removed]",
      "text/plain": [
       "<Figure size 1600x800 with 12 Axes>"
      ]
     },
     "metadata": {},
     "output_type": "display_data"
    }
   ],
   "source": [
    "from utils import build_hist\n",
    "build_hist(df,generated_df,3,4,df.columns[:12],figsize=(16,8))"
   ]
  },
  {
   "cell_type": "code",
   "execution_count": null,
   "id": "59005829",
   "metadata": {},
   "outputs": [],
   "source": []
  }
 ],
 "metadata": {
  "kernelspec": {
   "display_name": "Python 3 (ipykernel)",
   "language": "python",
   "name": "python3"
  },
  "language_info": {
   "codemirror_mode": {
    "name": "ipython",
    "version": 3
   },
   "file_extension": ".py",
   "mimetype": "text/x-python",
   "name": "python",
   "nbconvert_exporter": "python",
   "pygments_lexer": "ipython3",
   "version": "3.10.5"
  }
 },
 "nbformat": 4,
 "nbformat_minor": 5
}
