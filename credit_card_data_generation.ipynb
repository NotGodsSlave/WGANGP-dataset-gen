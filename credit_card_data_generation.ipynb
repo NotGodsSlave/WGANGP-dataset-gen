{
 "cells": [
  {
   "cell_type": "code",
   "execution_count": 1,
   "id": "82931daf",
   "metadata": {},
   "outputs": [],
   "source": [
    "import numpy as np\n",
    "import pandas as pd\n",
    "import tensorflow as tf\n",
    "\n",
    "from tensorflow import keras\n",
    "from keras.optimizers import Adam\n",
    "\n",
    "from matplotlib import pyplot as plt\n",
    "from wasserstein_loss import wasserstein_generator_loss, wasserstein_discriminator_loss\n",
    "from tabular_wgan_gp import tabularWGANGP\n",
    "from tabular_discriminator import build_discriminator\n",
    "from tabular_generator import build_generator"
   ]
  },
  {
   "cell_type": "code",
   "execution_count": 2,
   "id": "27f760cb",
   "metadata": {},
   "outputs": [],
   "source": [
    "import warnings\n",
    "warnings.filterwarnings('ignore')"
   ]
  },
  {
   "cell_type": "markdown",
   "id": "e6899774",
   "metadata": {},
   "source": [
    "## Building the model"
   ]
  },
  {
   "cell_type": "code",
   "execution_count": 3,
   "id": "f480b9d3",
   "metadata": {},
   "outputs": [],
   "source": [
    "latent_dim = 32\n",
    "out_shape = 30\n",
    "num_classes = 1"
   ]
  },
  {
   "cell_type": "code",
   "execution_count": 4,
   "id": "8579b1e9",
   "metadata": {},
   "outputs": [],
   "source": [
    "generator = build_generator(latent_dim = latent_dim, num_classes = num_classes, out_shape = out_shape, layers_dim=[128,256])"
   ]
  },
  {
   "cell_type": "code",
   "execution_count": 5,
   "id": "37190aec",
   "metadata": {},
   "outputs": [],
   "source": [
    "discriminator = build_discriminator(out_shape = out_shape, num_classes = num_classes, layers_dim=[256,128])"
   ]
  },
  {
   "cell_type": "code",
   "execution_count": 6,
   "id": "9fd7b83c",
   "metadata": {},
   "outputs": [],
   "source": [
    "model = tabularWGANGP(generator, discriminator, latent_dim = latent_dim, out_shape = out_shape,\n",
    "                     num_classes = num_classes, d_steps=10)\n",
    "model.compile(    \n",
    "    discriminator_optimizer=Adam(learning_rate=2e-4,beta_1=0.5,beta_2=0.9),\n",
    "    generator_optimizer=Adam(learning_rate=2e-4,beta_1=0.5,beta_2=0.9),\n",
    "    discriminator_loss = wasserstein_discriminator_loss,\n",
    "    generator_loss = wasserstein_generator_loss\n",
    ")"
   ]
  },
  {
   "cell_type": "markdown",
   "id": "cda023ad",
   "metadata": {},
   "source": [
    "## Reading and preprocessing the data"
   ]
  },
  {
   "cell_type": "code",
   "execution_count": 7,
   "id": "ac84a120",
   "metadata": {},
   "outputs": [
    {
     "data": {
      "text/plain": [
       "(284807, 31)"
      ]
     },
     "execution_count": 7,
     "metadata": {},
     "output_type": "execute_result"
    }
   ],
   "source": [
    "df = pd.read_csv('data/original/creditcard.csv')\n",
    "df.shape"
   ]
  },
  {
   "cell_type": "code",
   "execution_count": 8,
   "id": "16f04920",
   "metadata": {},
   "outputs": [],
   "source": [
    "from sklearn.model_selection import train_test_split\n",
    "from sklearn import preprocessing\n",
    "\n",
    "y = df[\"Class\"].values\n",
    "x = df.drop([\"Class\"],1)\n",
    "\n",
    "scaler = preprocessing.StandardScaler()\n",
    "\n",
    "x = scaler.fit_transform(x)\n",
    "x_train, x_test, y_train, y_test = train_test_split(x, y, test_size=0.4)\n",
    "\n",
    "df_fraud = df[df[\"Class\"] == 1]\n",
    "\n",
    "yf = df_fraud[\"Class\"].values\n",
    "xf = df_fraud.drop([\"Class\"],1)\n",
    "\n",
    "xf = scaler.fit_transform(xf)\n",
    "\n",
    "xf_train, yf_train = xf, yf"
   ]
  },
  {
   "cell_type": "code",
   "execution_count": 9,
   "id": "a5f8296d",
   "metadata": {},
   "outputs": [],
   "source": [
    "# setting up constants\n",
    "epochs = 100\n",
    "batch_size = 32"
   ]
  },
  {
   "cell_type": "code",
   "execution_count": 10,
   "id": "9ed062cb",
   "metadata": {},
   "outputs": [],
   "source": [
    "dataset = tf.data.Dataset.from_tensor_slices((xf_train,yf_train))\n",
    "dataset = dataset.shuffle(buffer_size=128).batch(batch_size)"
   ]
  },
  {
   "cell_type": "code",
   "execution_count": 11,
   "id": "b14090c4",
   "metadata": {},
   "outputs": [
    {
     "name": "stdout",
     "output_type": "stream",
     "text": [
      "Epoch 1/50\n",
      "16/16 [==============================] - 15s 113ms/step - g_loss: 0.1323 - d_loss: 1.5773\n",
      "Epoch 2/50\n",
      "16/16 [==============================] - 3s 163ms/step - g_loss: -0.6240 - d_loss: -2.4366\n",
      "Epoch 3/50\n",
      "16/16 [==============================] - 3s 165ms/step - g_loss: -1.0074 - d_loss: -2.1357\n",
      "Epoch 4/50\n",
      "16/16 [==============================] - 1s 90ms/step - g_loss: -0.3989 - d_loss: -1.9262\n",
      "Epoch 5/50\n",
      "16/16 [==============================] - 1s 70ms/step - g_loss: -0.5121 - d_loss: -1.6548\n",
      "Epoch 6/50\n",
      "16/16 [==============================] - 1s 75ms/step - g_loss: -0.6951 - d_loss: -1.7387\n",
      "Epoch 7/50\n",
      "16/16 [==============================] - 1s 68ms/step - g_loss: 0.6062 - d_loss: -1.6937\n",
      "Epoch 8/50\n",
      "16/16 [==============================] - 1s 50ms/step - g_loss: 0.4357 - d_loss: -1.8807\n",
      "Epoch 9/50\n",
      "16/16 [==============================] - 1s 48ms/step - g_loss: 0.6466 - d_loss: -1.6688\n",
      "Epoch 10/50\n",
      "16/16 [==============================] - 1s 51ms/step - g_loss: 0.9552 - d_loss: -2.0403\n",
      "Epoch 11/50\n",
      "16/16 [==============================] - 1s 50ms/step - g_loss: 0.8153 - d_loss: -1.8815\n",
      "Epoch 12/50\n",
      "16/16 [==============================] - 1s 48ms/step - g_loss: 0.9701 - d_loss: -2.0122\n",
      "Epoch 13/50\n",
      "16/16 [==============================] - 1s 49ms/step - g_loss: 0.8309 - d_loss: -2.0575\n",
      "Epoch 14/50\n",
      "16/16 [==============================] - 1s 51ms/step - g_loss: 0.8793 - d_loss: -1.8789\n",
      "Epoch 15/50\n",
      "16/16 [==============================] - 1s 49ms/step - g_loss: 0.9157 - d_loss: -1.8098\n",
      "Epoch 16/50\n",
      "16/16 [==============================] - 1s 51ms/step - g_loss: 0.9619 - d_loss: -2.2851\n",
      "Epoch 17/50\n",
      "16/16 [==============================] - 1s 48ms/step - g_loss: 0.5949 - d_loss: -2.0353\n",
      "Epoch 18/50\n",
      "16/16 [==============================] - 1s 49ms/step - g_loss: 1.0883 - d_loss: -2.0910\n",
      "Epoch 19/50\n",
      "16/16 [==============================] - 1s 50ms/step - g_loss: 1.0474 - d_loss: -2.0381\n",
      "Epoch 20/50\n",
      "16/16 [==============================] - 1s 50ms/step - g_loss: 1.0556 - d_loss: -2.0994\n",
      "Epoch 21/50\n",
      "16/16 [==============================] - 1s 47ms/step - g_loss: 0.6251 - d_loss: -1.8399\n",
      "Epoch 22/50\n",
      "16/16 [==============================] - 1s 48ms/step - g_loss: 0.1842 - d_loss: -2.1458\n",
      "Epoch 23/50\n",
      "16/16 [==============================] - 1s 51ms/step - g_loss: 0.1811 - d_loss: -2.5065\n",
      "Epoch 24/50\n",
      "16/16 [==============================] - 1s 51ms/step - g_loss: -0.0837 - d_loss: -1.9650\n",
      "Epoch 25/50\n",
      "16/16 [==============================] - 1s 49ms/step - g_loss: -0.2639 - d_loss: -1.9668\n",
      "Epoch 26/50\n",
      "16/16 [==============================] - 1s 47ms/step - g_loss: 0.1567 - d_loss: -1.9474\n",
      "Epoch 27/50\n",
      "16/16 [==============================] - 1s 48ms/step - g_loss: -0.7705 - d_loss: -2.2798\n",
      "Epoch 28/50\n",
      "16/16 [==============================] - 1s 48ms/step - g_loss: 0.0649 - d_loss: -2.1973\n",
      "Epoch 29/50\n",
      "16/16 [==============================] - 1s 49ms/step - g_loss: 0.2211 - d_loss: -2.2191\n",
      "Epoch 30/50\n",
      "16/16 [==============================] - 1s 48ms/step - g_loss: 0.3937 - d_loss: -2.2777\n",
      "Epoch 31/50\n",
      "16/16 [==============================] - 1s 49ms/step - g_loss: -0.1886 - d_loss: -2.1685\n",
      "Epoch 32/50\n",
      "16/16 [==============================] - 1s 49ms/step - g_loss: 0.3471 - d_loss: -1.9563\n",
      "Epoch 33/50\n",
      "16/16 [==============================] - 1s 47ms/step - g_loss: -0.0202 - d_loss: -2.4148\n",
      "Epoch 34/50\n",
      "16/16 [==============================] - 1s 48ms/step - g_loss: 0.2035 - d_loss: -2.1024\n",
      "Epoch 35/50\n",
      "16/16 [==============================] - 1s 51ms/step - g_loss: -0.0903 - d_loss: -2.1766\n",
      "Epoch 36/50\n",
      "16/16 [==============================] - 1s 46ms/step - g_loss: -0.4488 - d_loss: -2.1695\n",
      "Epoch 37/50\n",
      "16/16 [==============================] - 1s 49ms/step - g_loss: -0.0980 - d_loss: -2.1931\n",
      "Epoch 38/50\n",
      "16/16 [==============================] - 1s 49ms/step - g_loss: 0.2357 - d_loss: -1.7467\n",
      "Epoch 39/50\n",
      "16/16 [==============================] - 1s 50ms/step - g_loss: -0.7143 - d_loss: -2.1907\n",
      "Epoch 40/50\n",
      "16/16 [==============================] - 1s 46ms/step - g_loss: 0.1753 - d_loss: -1.6169\n",
      "Epoch 41/50\n",
      "16/16 [==============================] - 1s 49ms/step - g_loss: -0.2784 - d_loss: -1.9922\n",
      "Epoch 42/50\n",
      "16/16 [==============================] - 1s 46ms/step - g_loss: -0.5838 - d_loss: -1.8322\n",
      "Epoch 43/50\n",
      "16/16 [==============================] - 1s 48ms/step - g_loss: -0.3994 - d_loss: -2.0500\n",
      "Epoch 44/50\n",
      "16/16 [==============================] - 1s 51ms/step - g_loss: -0.2345 - d_loss: -1.9823\n",
      "Epoch 45/50\n",
      "16/16 [==============================] - 1s 47ms/step - g_loss: 0.1340 - d_loss: -1.8638\n",
      "Epoch 46/50\n",
      "16/16 [==============================] - 1s 46ms/step - g_loss: -0.3114 - d_loss: -2.2299\n",
      "Epoch 47/50\n",
      "16/16 [==============================] - 1s 45ms/step - g_loss: -0.3938 - d_loss: -2.0571\n",
      "Epoch 48/50\n",
      "16/16 [==============================] - 1s 49ms/step - g_loss: -0.5857 - d_loss: -2.0566\n",
      "Epoch 49/50\n",
      "16/16 [==============================] - 1s 48ms/step - g_loss: -1.0750 - d_loss: -2.0024\n",
      "Epoch 50/50\n",
      "16/16 [==============================] - 1s 46ms/step - g_loss: -0.6283 - d_loss: -2.4438\n"
     ]
    },
    {
     "data": {
      "text/plain": [
       "<keras.callbacks.History at 0x25838f33d60>"
      ]
     },
     "execution_count": 11,
     "metadata": {},
     "output_type": "execute_result"
    }
   ],
   "source": [
    "model.fit(dataset, epochs = epochs, batch_size=batch_size)"
   ]
  },
  {
   "cell_type": "markdown",
   "id": "35dd4114",
   "metadata": {},
   "source": [
    "## Classification on original train dataset"
   ]
  },
  {
   "cell_type": "code",
   "execution_count": 12,
   "id": "02c8ddd1",
   "metadata": {
    "scrolled": true
   },
   "outputs": [
    {
     "name": "stdout",
     "output_type": "stream",
     "text": [
      "              precision    recall  f1-score   support\n",
      "\n",
      "           0       1.00      1.00      1.00    113731\n",
      "           1       0.93      0.73      0.82       192\n",
      "\n",
      "    accuracy                           1.00    113923\n",
      "   macro avg       0.96      0.86      0.91    113923\n",
      "weighted avg       1.00      1.00      1.00    113923\n",
      "\n"
     ]
    },
    {
     "data": {
      "image/png": "[encoded data removed]",
      "text/plain": [
       "<Figure size 640x480 with 2 Axes>"
      ]
     },
     "metadata": {},
     "output_type": "display_data"
    }
   ],
   "source": [
    "from sklearn.ensemble import RandomForestClassifier\n",
    "from sklearn.metrics import precision_score, recall_score, f1_score,\\\n",
    "                            accuracy_score, balanced_accuracy_score,classification_report,\\\n",
    "                            plot_confusion_matrix, confusion_matrix\n",
    "\n",
    "# first train a random forest classifier on the original data\n",
    "rf = RandomForestClassifier(n_estimators = 10, random_state = 42)\n",
    "rf.fit(x_train,y_train)\n",
    "\n",
    "y_pred = rf.predict(x_test)\n",
    "\n",
    "# evaluation\n",
    "print(classification_report(y_test, y_pred))\n",
    "plot_confusion_matrix(rf, x_test, y_test)\n",
    "plt.show()"
   ]
  },
  {
   "cell_type": "markdown",
   "id": "f9ac0daa",
   "metadata": {},
   "source": [
    "## Generating synthetic minority class data samples"
   ]
  },
  {
   "cell_type": "code",
   "execution_count": 13,
   "id": "7f24214a",
   "metadata": {},
   "outputs": [
    {
     "data": {
      "text/plain": [
       "0    284315\n",
       "1       492\n",
       "Name: Class, dtype: int64"
      ]
     },
     "execution_count": 13,
     "metadata": {},
     "output_type": "execute_result"
    }
   ],
   "source": [
    "df[\"Class\"].value_counts()"
   ]
  },
  {
   "cell_type": "code",
   "execution_count": 16,
   "id": "a2ac8280",
   "metadata": {},
   "outputs": [
    {
     "name": "stdout",
     "output_type": "stream",
     "text": [
      "8869/8869 [==============================] - 10s 1ms/step\n"
     ]
    }
   ],
   "source": [
    "# generate data using trained model\n",
    "noise = np.random.normal(0, 1, (283800, latent_dim))\n",
    "sampled_labels = np.ones(283800).reshape(-1, 1)\n",
    "\n",
    "gen_samples = model.generator.predict([noise, sampled_labels])\n",
    "\n",
    "gen_samples_scaled = scaler.inverse_transform(gen_samples)\n",
    "\n",
    "gen_df = pd.DataFrame(data = gen_samples_scaled,\n",
    "                      columns = df.drop('Class',1).columns)\n",
    "\n",
    "gen_df['Class'] = 1\n",
    "\n",
    "df_balanced = pd.concat([df, gen_df], ignore_index=True, sort=False)\n",
    "df_balanced = df_balanced.sample(frac=1).reset_index(drop=True)\n",
    "\n",
    "x_train_2 = scaler.fit_transform(df_balanced.drop('Class', 1))\n",
    "y_train_2 = df_balanced['Class'].values"
   ]
  },
  {
   "cell_type": "code",
   "execution_count": 17,
   "id": "1d9cdb24",
   "metadata": {},
   "outputs": [
    {
     "data": {
      "text/plain": [
       "(568607, 31)"
      ]
     },
     "execution_count": 17,
     "metadata": {},
     "output_type": "execute_result"
    }
   ],
   "source": [
    "df_balanced.shape"
   ]
  },
  {
   "cell_type": "code",
   "execution_count": 18,
   "id": "223525ee",
   "metadata": {},
   "outputs": [
    {
     "name": "stdout",
     "output_type": "stream",
     "text": [
      "              precision    recall  f1-score   support\n",
      "\n",
      "           0       1.00      0.88      0.93    113731\n",
      "           1       0.01      0.87      0.02       192\n",
      "\n",
      "    accuracy                           0.88    113923\n",
      "   macro avg       0.51      0.87      0.48    113923\n",
      "weighted avg       1.00      0.88      0.93    113923\n",
      "\n"
     ]
    },
    {
     "data": {
      "image/png": "[encoded data removed]",
      "text/plain": [
       "<Figure size 640x480 with 2 Axes>"
      ]
     },
     "metadata": {},
     "output_type": "display_data"
    }
   ],
   "source": [
    "# now train a different instance of random forest classifier with the same parameters on generated data\n",
    "rf1 = RandomForestClassifier(n_estimators = 10, random_state = 42)\n",
    "rf1.fit(x_train_2,y_train_2)\n",
    "\n",
    "y_pred = rf1.predict(x_test)\n",
    "\n",
    "# evaluation\n",
    "print(classification_report(y_test, y_pred))\n",
    "plot_confusion_matrix(rf1, x_test, y_test)\n",
    "plt.show()"
   ]
  },
  {
   "cell_type": "code",
   "execution_count": null,
   "id": "75f2cb5c",
   "metadata": {},
   "outputs": [],
   "source": []
  }
 ],
 "metadata": {
  "kernelspec": {
   "display_name": "Python 3 (ipykernel)",
   "language": "python",
   "name": "python3"
  },
  "language_info": {
   "codemirror_mode": {
    "name": "ipython",
    "version": 3
   },
   "file_extension": ".py",
   "mimetype": "text/x-python",
   "name": "python",
   "nbconvert_exporter": "python",
   "pygments_lexer": "ipython3",
   "version": "3.10.5"
  }
 },
 "nbformat": 4,
 "nbformat_minor": 5
}
