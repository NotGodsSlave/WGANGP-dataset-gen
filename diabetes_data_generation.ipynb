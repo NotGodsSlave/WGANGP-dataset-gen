{
 "cells": [
  {
   "cell_type": "code",
   "execution_count": 1,
   "id": "fda99b8b",
   "metadata": {},
   "outputs": [],
   "source": [
    "import numpy as np\n",
    "import pandas as pd\n",
    "import tensorflow as tf\n",
    "\n",
    "from tensorflow import keras\n",
    "from keras.optimizers import Adam\n",
    "\n",
    "from matplotlib import pyplot as plt\n",
    "from wasserstein_loss import wasserstein_generator_loss, wasserstein_discriminator_loss\n",
    "from tabular_wgan_gp import tabularWGANGP\n",
    "from tabular_discriminator import build_discriminator\n",
    "from tabular_generator import build_generator"
   ]
  },
  {
   "cell_type": "code",
   "execution_count": 2,
   "id": "8b05925d",
   "metadata": {},
   "outputs": [],
   "source": [
    "import warnings\n",
    "warnings.filterwarnings('ignore')"
   ]
  },
  {
   "cell_type": "markdown",
   "id": "c6bbace3",
   "metadata": {},
   "source": [
    "## Building the model"
   ]
  },
  {
   "cell_type": "code",
   "execution_count": 3,
   "id": "497a903f",
   "metadata": {},
   "outputs": [],
   "source": [
    "latent_dim = 32\n",
    "out_shape = 8\n",
    "num_classes = 2"
   ]
  },
  {
   "cell_type": "code",
   "execution_count": 4,
   "id": "93e0096c",
   "metadata": {},
   "outputs": [],
   "source": [
    "generator = build_generator(latent_dim = latent_dim, num_classes = num_classes, out_shape = out_shape, layers_dim=[128,256,512])"
   ]
  },
  {
   "cell_type": "code",
   "execution_count": 5,
   "id": "85ba1137",
   "metadata": {},
   "outputs": [],
   "source": [
    "discriminator = build_discriminator(out_shape = out_shape, num_classes = num_classes, layers_dim=[512,256,128])"
   ]
  },
  {
   "cell_type": "code",
   "execution_count": 6,
   "id": "609b84d1",
   "metadata": {},
   "outputs": [],
   "source": [
    "model = tabularWGANGP(generator, discriminator, latent_dim = latent_dim, out_shape = out_shape,\n",
    "                     num_classes = num_classes, d_steps=10)\n",
    "model.compile(    \n",
    "    discriminator_optimizer=Adam(learning_rate=2e-4,beta_1=0.5,beta_2=0.9),\n",
    "    generator_optimizer=Adam(learning_rate=2e-4,beta_1=0.5,beta_2=0.9),\n",
    "    discriminator_loss = wasserstein_discriminator_loss,\n",
    "    generator_loss = wasserstein_generator_loss\n",
    ")"
   ]
  },
  {
   "cell_type": "markdown",
   "id": "cb227566",
   "metadata": {},
   "source": [
    "## Reading and preprocessing the data"
   ]
  },
  {
   "cell_type": "code",
   "execution_count": 7,
   "id": "aa8fac81",
   "metadata": {},
   "outputs": [
    {
     "data": {
      "text/html": [
       "<div>\n",
       "<style scoped>\n",
       "    .dataframe tbody tr th:only-of-type {\n",
       "        vertical-align: middle;\n",
       "    }\n",
       "\n",
       "    .dataframe tbody tr th {\n",
       "        vertical-align: top;\n",
       "    }\n",
       "\n",
       "    .dataframe thead th {\n",
       "        text-align: right;\n",
       "    }\n",
       "</style>\n",
       "<table border=\"1\" class=\"dataframe\">\n",
       "  <thead>\n",
       "    <tr style=\"text-align: right;\">\n",
       "      <th></th>\n",
       "      <th>Pregnancies</th>\n",
       "      <th>Glucose</th>\n",
       "      <th>BloodPressure</th>\n",
       "      <th>SkinThickness</th>\n",
       "      <th>Insulin</th>\n",
       "      <th>BMI</th>\n",
       "      <th>DiabetesPedigreeFunction</th>\n",
       "      <th>Age</th>\n",
       "      <th>Outcome</th>\n",
       "    </tr>\n",
       "  </thead>\n",
       "  <tbody>\n",
       "    <tr>\n",
       "      <th>0</th>\n",
       "      <td>6</td>\n",
       "      <td>148</td>\n",
       "      <td>72</td>\n",
       "      <td>35</td>\n",
       "      <td>0</td>\n",
       "      <td>33.6</td>\n",
       "      <td>0.627</td>\n",
       "      <td>50</td>\n",
       "      <td>1</td>\n",
       "    </tr>\n",
       "    <tr>\n",
       "      <th>1</th>\n",
       "      <td>1</td>\n",
       "      <td>85</td>\n",
       "      <td>66</td>\n",
       "      <td>29</td>\n",
       "      <td>0</td>\n",
       "      <td>26.6</td>\n",
       "      <td>0.351</td>\n",
       "      <td>31</td>\n",
       "      <td>0</td>\n",
       "    </tr>\n",
       "    <tr>\n",
       "      <th>2</th>\n",
       "      <td>8</td>\n",
       "      <td>183</td>\n",
       "      <td>64</td>\n",
       "      <td>0</td>\n",
       "      <td>0</td>\n",
       "      <td>23.3</td>\n",
       "      <td>0.672</td>\n",
       "      <td>32</td>\n",
       "      <td>1</td>\n",
       "    </tr>\n",
       "    <tr>\n",
       "      <th>3</th>\n",
       "      <td>1</td>\n",
       "      <td>89</td>\n",
       "      <td>66</td>\n",
       "      <td>23</td>\n",
       "      <td>94</td>\n",
       "      <td>28.1</td>\n",
       "      <td>0.167</td>\n",
       "      <td>21</td>\n",
       "      <td>0</td>\n",
       "    </tr>\n",
       "    <tr>\n",
       "      <th>4</th>\n",
       "      <td>0</td>\n",
       "      <td>137</td>\n",
       "      <td>40</td>\n",
       "      <td>35</td>\n",
       "      <td>168</td>\n",
       "      <td>43.1</td>\n",
       "      <td>2.288</td>\n",
       "      <td>33</td>\n",
       "      <td>1</td>\n",
       "    </tr>\n",
       "  </tbody>\n",
       "</table>\n",
       "</div>"
      ],
      "text/plain": [
       "   Pregnancies  Glucose  BloodPressure  SkinThickness  Insulin   BMI  \\\n",
       "0            6      148             72             35        0  33.6   \n",
       "1            1       85             66             29        0  26.6   \n",
       "2            8      183             64              0        0  23.3   \n",
       "3            1       89             66             23       94  28.1   \n",
       "4            0      137             40             35      168  43.1   \n",
       "\n",
       "   DiabetesPedigreeFunction  Age  Outcome  \n",
       "0                     0.627   50        1  \n",
       "1                     0.351   31        0  \n",
       "2                     0.672   32        1  \n",
       "3                     0.167   21        0  \n",
       "4                     2.288   33        1  "
      ]
     },
     "execution_count": 7,
     "metadata": {},
     "output_type": "execute_result"
    }
   ],
   "source": [
    "df = pd.read_csv('data/original/diabetes.csv')\n",
    "df.head()"
   ]
  },
  {
   "cell_type": "code",
   "execution_count": 8,
   "id": "1b475d8a",
   "metadata": {},
   "outputs": [],
   "source": [
    "from sklearn.model_selection import train_test_split\n",
    "from sklearn import preprocessing\n",
    "y = df[\"Outcome\"].values\n",
    "x = df.drop([\"Outcome\"],1)\n",
    "scaler = preprocessing.StandardScaler()\n",
    "x = scaler.fit_transform(x)\n",
    "x_train, x_test, y_train, y_test = train_test_split(x, y, test_size=0.2)"
   ]
  },
  {
   "cell_type": "code",
   "execution_count": 9,
   "id": "21f28146",
   "metadata": {},
   "outputs": [],
   "source": [
    "# setting up constants\n",
    "epochs = 100\n",
    "batch_size = 32"
   ]
  },
  {
   "cell_type": "code",
   "execution_count": 10,
   "id": "529a69c5",
   "metadata": {},
   "outputs": [],
   "source": [
    "y_train = keras.utils.to_categorical(y_train,num_classes)\n",
    "dataset = tf.data.Dataset.from_tensor_slices((x_train,y_train))\n",
    "dataset = dataset.shuffle(buffer_size=128).batch(batch_size)"
   ]
  },
  {
   "cell_type": "code",
   "execution_count": 11,
   "id": "be7907b7",
   "metadata": {},
   "outputs": [
    {
     "name": "stdout",
     "output_type": "stream",
     "text": [
      "Epoch 1/100\n",
      "20/20 [==============================] - 8s 44ms/step - g_loss: -0.0100 - d_loss: 2.1976\n",
      "Epoch 2/100\n",
      "20/20 [==============================] - 1s 38ms/step - g_loss: -0.0091 - d_loss: -1.0324\n",
      "Epoch 3/100\n",
      "20/20 [==============================] - 1s 40ms/step - g_loss: 0.0131 - d_loss: -0.9500\n",
      "Epoch 4/100\n",
      "20/20 [==============================] - 1s 35ms/step - g_loss: 0.0899 - d_loss: -0.8306\n",
      "Epoch 5/100\n",
      "20/20 [==============================] - 1s 39ms/step - g_loss: 0.9690 - d_loss: -0.7409\n",
      "Epoch 6/100\n",
      "20/20 [==============================] - 1s 37ms/step - g_loss: 1.8409 - d_loss: -0.7756\n",
      "Epoch 7/100\n",
      "20/20 [==============================] - 1s 36ms/step - g_loss: 2.3648 - d_loss: -0.8429\n",
      "Epoch 8/100\n",
      "20/20 [==============================] - 1s 37ms/step - g_loss: 3.1841 - d_loss: -0.7682\n",
      "Epoch 9/100\n",
      "20/20 [==============================] - 1s 36ms/step - g_loss: 3.5435 - d_loss: -0.7093\n",
      "Epoch 10/100\n",
      "20/20 [==============================] - 1s 38ms/step - g_loss: 4.2715 - d_loss: -0.7505\n",
      "Epoch 11/100\n",
      "20/20 [==============================] - 1s 36ms/step - g_loss: 4.4877 - d_loss: -0.7797\n",
      "Epoch 12/100\n",
      "20/20 [==============================] - 1s 36ms/step - g_loss: 4.0706 - d_loss: -0.8518\n",
      "Epoch 13/100\n",
      "20/20 [==============================] - 1s 36ms/step - g_loss: 3.9732 - d_loss: -0.8408\n",
      "Epoch 14/100\n",
      "20/20 [==============================] - 1s 39ms/step - g_loss: 3.7606 - d_loss: -0.8366\n",
      "Epoch 15/100\n",
      "20/20 [==============================] - 1s 35ms/step - g_loss: 3.6391 - d_loss: -0.8482\n",
      "Epoch 16/100\n",
      "20/20 [==============================] - 1s 35ms/step - g_loss: 3.3575 - d_loss: -0.8826\n",
      "Epoch 17/100\n",
      "20/20 [==============================] - 1s 36ms/step - g_loss: 2.7212 - d_loss: -0.8624\n",
      "Epoch 18/100\n",
      "20/20 [==============================] - 1s 35ms/step - g_loss: 2.1438 - d_loss: -0.9403\n",
      "Epoch 19/100\n",
      "20/20 [==============================] - 1s 35ms/step - g_loss: 1.9324 - d_loss: -0.9175\n",
      "Epoch 20/100\n",
      "20/20 [==============================] - 1s 35ms/step - g_loss: 1.6510 - d_loss: -0.9826\n",
      "Epoch 21/100\n",
      "20/20 [==============================] - 1s 38ms/step - g_loss: 1.3947 - d_loss: -0.9790\n",
      "Epoch 22/100\n",
      "20/20 [==============================] - 1s 36ms/step - g_loss: 1.2025 - d_loss: -0.9971\n",
      "Epoch 23/100\n",
      "20/20 [==============================] - 1s 37ms/step - g_loss: 0.9013 - d_loss: -0.9270\n",
      "Epoch 24/100\n",
      "20/20 [==============================] - 1s 36ms/step - g_loss: 0.8657 - d_loss: -0.9322\n",
      "Epoch 25/100\n",
      "20/20 [==============================] - 1s 35ms/step - g_loss: 0.7141 - d_loss: -0.9002\n",
      "Epoch 26/100\n",
      "20/20 [==============================] - 1s 36ms/step - g_loss: 0.7537 - d_loss: -0.9224\n",
      "Epoch 27/100\n",
      "20/20 [==============================] - 1s 39ms/step - g_loss: 0.4401 - d_loss: -0.8575\n",
      "Epoch 28/100\n",
      "20/20 [==============================] - 1s 35ms/step - g_loss: 0.6610 - d_loss: -0.8736\n",
      "Epoch 29/100\n",
      "20/20 [==============================] - 1s 37ms/step - g_loss: 0.7037 - d_loss: -0.9177\n",
      "Epoch 30/100\n",
      "20/20 [==============================] - 1s 36ms/step - g_loss: 0.7499 - d_loss: -0.9006\n",
      "Epoch 31/100\n",
      "20/20 [==============================] - 1s 37ms/step - g_loss: 0.5944 - d_loss: -0.9021\n",
      "Epoch 32/100\n",
      "20/20 [==============================] - 1s 41ms/step - g_loss: 0.8306 - d_loss: -0.9037\n",
      "Epoch 33/100\n",
      "20/20 [==============================] - 1s 38ms/step - g_loss: 0.8555 - d_loss: -0.9238\n",
      "Epoch 34/100\n",
      "20/20 [==============================] - 1s 40ms/step - g_loss: 1.0080 - d_loss: -0.8857\n",
      "Epoch 35/100\n",
      "20/20 [==============================] - 1s 37ms/step - g_loss: 0.7584 - d_loss: -0.9077\n",
      "Epoch 36/100\n",
      "20/20 [==============================] - 1s 35ms/step - g_loss: 1.0127 - d_loss: -0.8082\n",
      "Epoch 37/100\n",
      "20/20 [==============================] - 1s 42ms/step - g_loss: 0.9107 - d_loss: -0.9422\n",
      "Epoch 38/100\n",
      "20/20 [==============================] - 1s 39ms/step - g_loss: 0.8943 - d_loss: -0.8906\n",
      "Epoch 39/100\n",
      "20/20 [==============================] - 1s 36ms/step - g_loss: 0.9436 - d_loss: -0.8876\n",
      "Epoch 40/100\n",
      "20/20 [==============================] - 1s 37ms/step - g_loss: 0.8844 - d_loss: -0.9024\n",
      "Epoch 41/100\n",
      "20/20 [==============================] - 1s 36ms/step - g_loss: 0.7352 - d_loss: -0.9259\n",
      "Epoch 42/100\n",
      "20/20 [==============================] - 1s 36ms/step - g_loss: 0.8811 - d_loss: -0.9374\n",
      "Epoch 43/100\n",
      "20/20 [==============================] - 1s 40ms/step - g_loss: 0.9001 - d_loss: -0.8878\n",
      "Epoch 44/100\n",
      "20/20 [==============================] - 1s 36ms/step - g_loss: 0.7603 - d_loss: -0.9151\n",
      "Epoch 45/100\n",
      "20/20 [==============================] - 1s 39ms/step - g_loss: 1.0447 - d_loss: -0.8881\n",
      "Epoch 46/100\n",
      "20/20 [==============================] - 1s 36ms/step - g_loss: 0.9618 - d_loss: -0.8484\n",
      "Epoch 47/100\n",
      "20/20 [==============================] - 1s 37ms/step - g_loss: 0.7826 - d_loss: -0.9079\n",
      "Epoch 48/100\n",
      "20/20 [==============================] - 1s 38ms/step - g_loss: 1.1125 - d_loss: -0.8772\n",
      "Epoch 49/100\n",
      "20/20 [==============================] - 1s 38ms/step - g_loss: 0.9645 - d_loss: -0.9117\n",
      "Epoch 50/100\n",
      "20/20 [==============================] - 1s 36ms/step - g_loss: 0.7413 - d_loss: -0.9014\n",
      "Epoch 51/100\n",
      "20/20 [==============================] - 1s 41ms/step - g_loss: 0.6313 - d_loss: -0.8620\n",
      "Epoch 52/100\n",
      "20/20 [==============================] - 1s 36ms/step - g_loss: 0.5316 - d_loss: -0.8692\n",
      "Epoch 53/100\n",
      "20/20 [==============================] - 1s 36ms/step - g_loss: 0.5976 - d_loss: -0.9042\n",
      "Epoch 54/100\n",
      "20/20 [==============================] - 1s 39ms/step - g_loss: 0.6101 - d_loss: -0.9381\n",
      "Epoch 55/100\n",
      "20/20 [==============================] - 1s 38ms/step - g_loss: 0.4088 - d_loss: -0.9365\n",
      "Epoch 56/100\n",
      "20/20 [==============================] - 1s 39ms/step - g_loss: 0.8676 - d_loss: -0.9327\n",
      "Epoch 57/100\n",
      "20/20 [==============================] - 1s 41ms/step - g_loss: 0.5769 - d_loss: -0.9290\n",
      "Epoch 58/100\n",
      "20/20 [==============================] - 1s 37ms/step - g_loss: 0.3171 - d_loss: -0.9391\n",
      "Epoch 59/100\n",
      "20/20 [==============================] - 1s 38ms/step - g_loss: 0.2473 - d_loss: -0.8713\n",
      "Epoch 60/100\n",
      "20/20 [==============================] - 1s 38ms/step - g_loss: 0.3341 - d_loss: -0.9287\n",
      "Epoch 61/100\n",
      "20/20 [==============================] - 1s 36ms/step - g_loss: -0.0542 - d_loss: -0.9298\n",
      "Epoch 62/100\n",
      "20/20 [==============================] - 1s 40ms/step - g_loss: 0.1925 - d_loss: -0.9141\n",
      "Epoch 63/100\n",
      "20/20 [==============================] - 1s 42ms/step - g_loss: -0.2788 - d_loss: -0.9051\n",
      "Epoch 64/100\n",
      "20/20 [==============================] - 1s 41ms/step - g_loss: -0.2639 - d_loss: -0.9713\n",
      "Epoch 65/100\n",
      "20/20 [==============================] - 1s 40ms/step - g_loss: -0.4944 - d_loss: -0.8925\n",
      "Epoch 66/100\n",
      "20/20 [==============================] - 1s 38ms/step - g_loss: -0.2573 - d_loss: -0.9129\n",
      "Epoch 67/100\n",
      "20/20 [==============================] - 1s 41ms/step - g_loss: -0.4641 - d_loss: -0.9563\n",
      "Epoch 68/100\n",
      "20/20 [==============================] - 1s 37ms/step - g_loss: -0.3050 - d_loss: -1.0000\n",
      "Epoch 69/100\n",
      "20/20 [==============================] - 1s 36ms/step - g_loss: -0.0965 - d_loss: -0.9622\n",
      "Epoch 70/100\n",
      "20/20 [==============================] - 1s 39ms/step - g_loss: -0.4522 - d_loss: -0.9583\n",
      "Epoch 71/100\n",
      "20/20 [==============================] - 1s 36ms/step - g_loss: -0.2137 - d_loss: -0.9092\n",
      "Epoch 72/100\n",
      "20/20 [==============================] - 1s 39ms/step - g_loss: -0.1273 - d_loss: -1.0014\n",
      "Epoch 73/100\n",
      "20/20 [==============================] - 1s 41ms/step - g_loss: -0.0232 - d_loss: -0.9340\n",
      "Epoch 74/100\n",
      "20/20 [==============================] - 1s 38ms/step - g_loss: -0.4712 - d_loss: -0.9374\n",
      "Epoch 75/100\n",
      "20/20 [==============================] - 1s 36ms/step - g_loss: -0.7249 - d_loss: -0.9803\n",
      "Epoch 76/100\n",
      "20/20 [==============================] - 1s 37ms/step - g_loss: -0.4783 - d_loss: -0.9989\n",
      "Epoch 77/100\n",
      "20/20 [==============================] - 1s 39ms/step - g_loss: -0.3918 - d_loss: -0.9951\n",
      "Epoch 78/100\n",
      "20/20 [==============================] - 1s 37ms/step - g_loss: -0.5862 - d_loss: -0.9743\n",
      "Epoch 79/100\n",
      "20/20 [==============================] - 1s 37ms/step - g_loss: -0.5653 - d_loss: -0.9685\n",
      "Epoch 80/100\n",
      "20/20 [==============================] - 1s 37ms/step - g_loss: -0.8945 - d_loss: -0.9852\n",
      "Epoch 81/100\n",
      "20/20 [==============================] - 1s 36ms/step - g_loss: -0.7319 - d_loss: -0.9682\n",
      "Epoch 82/100\n",
      "20/20 [==============================] - 1s 40ms/step - g_loss: -0.5123 - d_loss: -1.0004\n",
      "Epoch 83/100\n",
      "20/20 [==============================] - 1s 39ms/step - g_loss: -0.4500 - d_loss: -1.0082\n",
      "Epoch 84/100\n",
      "20/20 [==============================] - 1s 40ms/step - g_loss: -0.3841 - d_loss: -1.0013\n",
      "Epoch 85/100\n",
      "20/20 [==============================] - 1s 37ms/step - g_loss: -0.7703 - d_loss: -0.9646\n",
      "Epoch 86/100\n",
      "20/20 [==============================] - 1s 37ms/step - g_loss: -0.4561 - d_loss: -0.9827\n",
      "Epoch 87/100\n",
      "20/20 [==============================] - 1s 39ms/step - g_loss: -0.3792 - d_loss: -1.0134\n",
      "Epoch 88/100\n",
      "20/20 [==============================] - 1s 36ms/step - g_loss: -0.6570 - d_loss: -0.9514\n",
      "Epoch 89/100\n",
      "20/20 [==============================] - 1s 38ms/step - g_loss: -0.5297 - d_loss: -0.9424\n",
      "Epoch 90/100\n",
      "20/20 [==============================] - 1s 39ms/step - g_loss: -0.2676 - d_loss: -0.9623\n",
      "Epoch 91/100\n",
      "20/20 [==============================] - 1s 37ms/step - g_loss: -0.7012 - d_loss: -0.9640\n",
      "Epoch 92/100\n",
      "20/20 [==============================] - 1s 38ms/step - g_loss: -0.7526 - d_loss: -0.9962\n",
      "Epoch 93/100\n",
      "20/20 [==============================] - 1s 44ms/step - g_loss: -0.7066 - d_loss: -0.9564\n",
      "Epoch 94/100\n",
      "20/20 [==============================] - 1s 38ms/step - g_loss: -0.7673 - d_loss: -1.0129\n",
      "Epoch 95/100\n",
      "20/20 [==============================] - 1s 36ms/step - g_loss: -0.7081 - d_loss: -0.9791\n",
      "Epoch 96/100\n",
      "20/20 [==============================] - 1s 37ms/step - g_loss: -0.6102 - d_loss: -1.0414\n",
      "Epoch 97/100\n",
      "20/20 [==============================] - 1s 39ms/step - g_loss: -0.6751 - d_loss: -1.0434\n",
      "Epoch 98/100\n",
      "20/20 [==============================] - 1s 43ms/step - g_loss: -0.4903 - d_loss: -0.9945\n",
      "Epoch 99/100\n",
      "20/20 [==============================] - 1s 38ms/step - g_loss: 0.0191 - d_loss: -1.0058\n",
      "Epoch 100/100\n",
      "20/20 [==============================] - 1s 40ms/step - g_loss: -0.6558 - d_loss: -1.0155\n"
     ]
    },
    {
     "data": {
      "text/plain": [
       "<keras.callbacks.History at 0x191f8439930>"
      ]
     },
     "execution_count": 11,
     "metadata": {},
     "output_type": "execute_result"
    }
   ],
   "source": [
    "model.fit(dataset, epochs = epochs, batch_size=batch_size)"
   ]
  },
  {
   "cell_type": "markdown",
   "id": "6877086d",
   "metadata": {},
   "source": [
    "## Evaluating the results"
   ]
  },
  {
   "cell_type": "code",
   "execution_count": 12,
   "id": "3fa08393",
   "metadata": {},
   "outputs": [],
   "source": [
    "y_train = np.argmax(y_train, axis = -1)"
   ]
  },
  {
   "cell_type": "code",
   "execution_count": 13,
   "id": "c7d37af1",
   "metadata": {},
   "outputs": [
    {
     "name": "stdout",
     "output_type": "stream",
     "text": [
      "              precision    recall  f1-score   support\n",
      "\n",
      "           0       0.78      0.86      0.82        94\n",
      "           1       0.74      0.62      0.67        60\n",
      "\n",
      "    accuracy                           0.77       154\n",
      "   macro avg       0.76      0.74      0.75       154\n",
      "weighted avg       0.76      0.77      0.76       154\n",
      "\n"
     ]
    },
    {
     "data": {
      "image/png": "[encoded data removed]",
      "text/plain": [
       "<Figure size 640x480 with 2 Axes>"
      ]
     },
     "metadata": {},
     "output_type": "display_data"
    }
   ],
   "source": [
    "from sklearn.ensemble import RandomForestClassifier\n",
    "from sklearn.metrics import precision_score, recall_score, f1_score,\\\n",
    "                            accuracy_score, balanced_accuracy_score,classification_report,\\\n",
    "                            plot_confusion_matrix, confusion_matrix\n",
    "\n",
    "# first train a random forest classifier on the original data\n",
    "rf = RandomForestClassifier(n_estimators = 100, random_state = 42)\n",
    "rf.fit(x_train,y_train)\n",
    "\n",
    "y_pred = rf.predict(x_test)\n",
    "\n",
    "# evaluation\n",
    "print(classification_report(y_test, y_pred))\n",
    "plot_confusion_matrix(rf, x_test, y_test)\n",
    "plt.show()"
   ]
  },
  {
   "cell_type": "code",
   "execution_count": 14,
   "id": "724a9461",
   "metadata": {},
   "outputs": [
    {
     "data": {
      "text/plain": [
       "0    500\n",
       "1    268\n",
       "Name: Outcome, dtype: int64"
      ]
     },
     "execution_count": 14,
     "metadata": {},
     "output_type": "execute_result"
    }
   ],
   "source": [
    "df[\"Outcome\"].value_counts()"
   ]
  },
  {
   "cell_type": "code",
   "execution_count": 15,
   "id": "a5d1b38b",
   "metadata": {},
   "outputs": [
    {
     "name": "stdout",
     "output_type": "stream",
     "text": [
      "13/13 [==============================] - 0s 1ms/step\n",
      "7/7 [==============================] - 0s 2ms/step\n"
     ]
    }
   ],
   "source": [
    "# generate data using trained model\n",
    "noise = np.random.normal(0, 1, (400, latent_dim))\n",
    "sampled_labels = np.zeros(400).reshape(-1, 1)\n",
    "sampled_labels = keras.utils.to_categorical(sampled_labels,num_classes)\n",
    "\n",
    "gen_samples = model.generator.predict([noise, sampled_labels])\n",
    "\n",
    "gen_df = pd.DataFrame(data = gen_samples,\n",
    "                      columns = df.drop('Outcome',1).columns)\n",
    "\n",
    "noise_2 = np.random.normal(0, 1, (212, latent_dim))\n",
    "sampled_labels_2 = np.ones(212).reshape(-1, 1)\n",
    "sampled_labels_2 = keras.utils.to_categorical(sampled_labels_2,2)\n",
    "\n",
    "gen_samples_2 = model.generator.predict([noise_2, sampled_labels_2])\n",
    "\n",
    "gen_df_2 = pd.DataFrame(data = gen_samples_2,\n",
    "                      columns = df.drop('Outcome',1).columns)\n",
    "\n",
    "gen_df_2['Outcome'] = 1\n",
    "gen_df['Outcome']=0\n",
    "\n",
    "df_gan = pd.concat([gen_df_2, gen_df], ignore_index=True, sort=False)\n",
    "df_gan = df_gan.sample(frac=1).reset_index(drop=True)\n",
    "\n",
    "x_train_2 = df_gan.drop('Outcome', 1)\n",
    "y_train_2 = df_gan['Outcome'].values"
   ]
  },
  {
   "cell_type": "code",
   "execution_count": 16,
   "id": "50132ea5",
   "metadata": {},
   "outputs": [
    {
     "data": {
      "text/html": [
       "<div>\n",
       "<style scoped>\n",
       "    .dataframe tbody tr th:only-of-type {\n",
       "        vertical-align: middle;\n",
       "    }\n",
       "\n",
       "    .dataframe tbody tr th {\n",
       "        vertical-align: top;\n",
       "    }\n",
       "\n",
       "    .dataframe thead th {\n",
       "        text-align: right;\n",
       "    }\n",
       "</style>\n",
       "<table border=\"1\" class=\"dataframe\">\n",
       "  <thead>\n",
       "    <tr style=\"text-align: right;\">\n",
       "      <th></th>\n",
       "      <th>Pregnancies</th>\n",
       "      <th>Glucose</th>\n",
       "      <th>BloodPressure</th>\n",
       "      <th>SkinThickness</th>\n",
       "      <th>Insulin</th>\n",
       "      <th>BMI</th>\n",
       "      <th>DiabetesPedigreeFunction</th>\n",
       "      <th>Age</th>\n",
       "    </tr>\n",
       "  </thead>\n",
       "  <tbody>\n",
       "    <tr>\n",
       "      <th>0</th>\n",
       "      <td>-0.709161</td>\n",
       "      <td>-0.953081</td>\n",
       "      <td>0.329987</td>\n",
       "      <td>0.908326</td>\n",
       "      <td>-0.454819</td>\n",
       "      <td>0.789503</td>\n",
       "      <td>-0.467240</td>\n",
       "      <td>0.212557</td>\n",
       "    </tr>\n",
       "    <tr>\n",
       "      <th>1</th>\n",
       "      <td>-0.585529</td>\n",
       "      <td>-0.770299</td>\n",
       "      <td>0.521876</td>\n",
       "      <td>0.883584</td>\n",
       "      <td>0.503233</td>\n",
       "      <td>0.548807</td>\n",
       "      <td>-0.847864</td>\n",
       "      <td>-0.490982</td>\n",
       "    </tr>\n",
       "    <tr>\n",
       "      <th>2</th>\n",
       "      <td>0.749084</td>\n",
       "      <td>-0.047936</td>\n",
       "      <td>0.079309</td>\n",
       "      <td>0.314855</td>\n",
       "      <td>-0.153893</td>\n",
       "      <td>-0.306249</td>\n",
       "      <td>-0.550605</td>\n",
       "      <td>-0.743699</td>\n",
       "    </tr>\n",
       "    <tr>\n",
       "      <th>3</th>\n",
       "      <td>0.165887</td>\n",
       "      <td>-0.267524</td>\n",
       "      <td>-0.788970</td>\n",
       "      <td>-0.429934</td>\n",
       "      <td>-0.829750</td>\n",
       "      <td>-0.054381</td>\n",
       "      <td>0.814305</td>\n",
       "      <td>-0.165414</td>\n",
       "    </tr>\n",
       "    <tr>\n",
       "      <th>4</th>\n",
       "      <td>-0.647218</td>\n",
       "      <td>-0.608170</td>\n",
       "      <td>0.578767</td>\n",
       "      <td>0.968224</td>\n",
       "      <td>0.643607</td>\n",
       "      <td>0.728364</td>\n",
       "      <td>-0.880592</td>\n",
       "      <td>-0.796869</td>\n",
       "    </tr>\n",
       "  </tbody>\n",
       "</table>\n",
       "</div>"
      ],
      "text/plain": [
       "   Pregnancies   Glucose  BloodPressure  SkinThickness   Insulin       BMI  \\\n",
       "0    -0.709161 -0.953081       0.329987       0.908326 -0.454819  0.789503   \n",
       "1    -0.585529 -0.770299       0.521876       0.883584  0.503233  0.548807   \n",
       "2     0.749084 -0.047936       0.079309       0.314855 -0.153893 -0.306249   \n",
       "3     0.165887 -0.267524      -0.788970      -0.429934 -0.829750 -0.054381   \n",
       "4    -0.647218 -0.608170       0.578767       0.968224  0.643607  0.728364   \n",
       "\n",
       "   DiabetesPedigreeFunction       Age  \n",
       "0                 -0.467240  0.212557  \n",
       "1                 -0.847864 -0.490982  \n",
       "2                 -0.550605 -0.743699  \n",
       "3                  0.814305 -0.165414  \n",
       "4                 -0.880592 -0.796869  "
      ]
     },
     "execution_count": 16,
     "metadata": {},
     "output_type": "execute_result"
    }
   ],
   "source": [
    "x_train_2.head()"
   ]
  },
  {
   "cell_type": "code",
   "execution_count": 17,
   "id": "cc5b6e2e",
   "metadata": {},
   "outputs": [
    {
     "name": "stdout",
     "output_type": "stream",
     "text": [
      "              precision    recall  f1-score   support\n",
      "\n",
      "           0       0.82      0.80      0.81        94\n",
      "           1       0.69      0.72      0.70        60\n",
      "\n",
      "    accuracy                           0.77       154\n",
      "   macro avg       0.75      0.76      0.76       154\n",
      "weighted avg       0.77      0.77      0.77       154\n",
      "\n"
     ]
    },
    {
     "data": {
      "image/png": "[encoded data removed]",
      "text/plain": [
       "<Figure size 640x480 with 2 Axes>"
      ]
     },
     "metadata": {},
     "output_type": "display_data"
    }
   ],
   "source": [
    "# now train a different instance of random forest classifier with the same parameters on generated data\n",
    "rf1 = RandomForestClassifier(n_estimators = 100, random_state = 42)\n",
    "rf1.fit(x_train_2,y_train_2)\n",
    "\n",
    "y_pred = rf1.predict(x_test)\n",
    "\n",
    "# evaluation\n",
    "print(classification_report(y_test, y_pred))\n",
    "plot_confusion_matrix(rf1, x_test, y_test)\n",
    "plt.show()"
   ]
  },
  {
   "cell_type": "markdown",
   "id": "e0249a26",
   "metadata": {},
   "source": [
    "## Disctance measurement for generated data"
   ]
  },
  {
   "cell_type": "code",
   "execution_count": 18,
   "id": "7030863c",
   "metadata": {},
   "outputs": [
    {
     "data": {
      "text/html": [
       "<div>\n",
       "<style scoped>\n",
       "    .dataframe tbody tr th:only-of-type {\n",
       "        vertical-align: middle;\n",
       "    }\n",
       "\n",
       "    .dataframe tbody tr th {\n",
       "        vertical-align: top;\n",
       "    }\n",
       "\n",
       "    .dataframe thead th {\n",
       "        text-align: right;\n",
       "    }\n",
       "</style>\n",
       "<table border=\"1\" class=\"dataframe\">\n",
       "  <thead>\n",
       "    <tr style=\"text-align: right;\">\n",
       "      <th></th>\n",
       "      <th>Pregnancies</th>\n",
       "      <th>Glucose</th>\n",
       "      <th>BloodPressure</th>\n",
       "      <th>SkinThickness</th>\n",
       "      <th>Insulin</th>\n",
       "      <th>BMI</th>\n",
       "      <th>DiabetesPedigreeFunction</th>\n",
       "      <th>Age</th>\n",
       "    </tr>\n",
       "  </thead>\n",
       "  <tbody>\n",
       "    <tr>\n",
       "      <th>0</th>\n",
       "      <td>1.457034</td>\n",
       "      <td>90.441895</td>\n",
       "      <td>75.488480</td>\n",
       "      <td>35.016830</td>\n",
       "      <td>27.418501</td>\n",
       "      <td>38.213093</td>\n",
       "      <td>0.317167</td>\n",
       "      <td>35.738976</td>\n",
       "    </tr>\n",
       "    <tr>\n",
       "      <th>1</th>\n",
       "      <td>1.873352</td>\n",
       "      <td>96.282082</td>\n",
       "      <td>79.200211</td>\n",
       "      <td>34.622402</td>\n",
       "      <td>137.756302</td>\n",
       "      <td>36.316639</td>\n",
       "      <td>0.191138</td>\n",
       "      <td>27.470583</td>\n",
       "    </tr>\n",
       "    <tr>\n",
       "      <th>2</th>\n",
       "      <td>6.367506</td>\n",
       "      <td>119.362877</td>\n",
       "      <td>70.639557</td>\n",
       "      <td>25.555824</td>\n",
       "      <td>62.075771</td>\n",
       "      <td>29.579638</td>\n",
       "      <td>0.289564</td>\n",
       "      <td>24.500511</td>\n",
       "    </tr>\n",
       "    <tr>\n",
       "      <th>3</th>\n",
       "      <td>4.403657</td>\n",
       "      <td>112.346664</td>\n",
       "      <td>53.844265</td>\n",
       "      <td>13.682528</td>\n",
       "      <td>-15.761945</td>\n",
       "      <td>31.564110</td>\n",
       "      <td>0.741503</td>\n",
       "      <td>31.296848</td>\n",
       "    </tr>\n",
       "    <tr>\n",
       "      <th>4</th>\n",
       "      <td>1.665619</td>\n",
       "      <td>101.462402</td>\n",
       "      <td>80.300674</td>\n",
       "      <td>35.971710</td>\n",
       "      <td>153.923065</td>\n",
       "      <td>37.731377</td>\n",
       "      <td>0.180301</td>\n",
       "      <td>23.875624</td>\n",
       "    </tr>\n",
       "  </tbody>\n",
       "</table>\n",
       "</div>"
      ],
      "text/plain": [
       "   Pregnancies     Glucose  BloodPressure  SkinThickness     Insulin  \\\n",
       "0     1.457034   90.441895      75.488480      35.016830   27.418501   \n",
       "1     1.873352   96.282082      79.200211      34.622402  137.756302   \n",
       "2     6.367506  119.362877      70.639557      25.555824   62.075771   \n",
       "3     4.403657  112.346664      53.844265      13.682528  -15.761945   \n",
       "4     1.665619  101.462402      80.300674      35.971710  153.923065   \n",
       "\n",
       "         BMI  DiabetesPedigreeFunction        Age  \n",
       "0  38.213093                  0.317167  35.738976  \n",
       "1  36.316639                  0.191138  27.470583  \n",
       "2  29.579638                  0.289564  24.500511  \n",
       "3  31.564110                  0.741503  31.296848  \n",
       "4  37.731377                  0.180301  23.875624  "
      ]
     },
     "execution_count": 18,
     "metadata": {},
     "output_type": "execute_result"
    }
   ],
   "source": [
    "generated = scaler.inverse_transform(df_gan.drop(\"Outcome\",1))\n",
    "generated_df = pd.DataFrame(data=generated,columns = df.drop(\"Outcome\",1).columns)\n",
    "generated_df.head()"
   ]
  },
  {
   "cell_type": "code",
   "execution_count": 19,
   "id": "edb11b70",
   "metadata": {},
   "outputs": [
    {
     "data": {
      "image/png": "[encoded data removed]",
      "text/plain": [
       "<Figure size 1600x800 with 8 Axes>"
      ]
     },
     "metadata": {},
     "output_type": "display_data"
    }
   ],
   "source": [
    "from utils import build_hist\n",
    "build_hist(df,generated_df,2,4,df.drop(\"Outcome\",1).columns,figsize=(16,8))"
   ]
  },
  {
   "cell_type": "code",
   "execution_count": 21,
   "id": "d971dd45",
   "metadata": {
    "scrolled": true
   },
   "outputs": [
    {
     "name": "stdout",
     "output_type": "stream",
     "text": [
      "Pregnancies                   3.531879\n",
      "Glucose                     116.563499\n",
      "BloodPressure                70.775764\n",
      "SkinThickness                21.940710\n",
      "Insulin                      62.949997\n",
      "BMI                          32.360699\n",
      "DiabetesPedigreeFunction      0.423439\n",
      "Age                          31.435770\n",
      "dtype: float32\n",
      "Pregnancies                  2.488604\n",
      "Glucose                     21.907347\n",
      "BloodPressure               10.359290\n",
      "SkinThickness               11.670437\n",
      "Insulin                     76.353142\n",
      "BMI                          5.309234\n",
      "DiabetesPedigreeFunction     0.219546\n",
      "Age                          8.837710\n",
      "dtype: float32\n"
     ]
    }
   ],
   "source": [
    "print(generated_df.mean())\n",
    "print(generated_df.std())"
   ]
  },
  {
   "cell_type": "code",
   "execution_count": null,
   "id": "6d2e4771",
   "metadata": {},
   "outputs": [],
   "source": []
  }
 ],
 "metadata": {
  "kernelspec": {
   "display_name": "Python 3 (ipykernel)",
   "language": "python",
   "name": "python3"
  },
  "language_info": {
   "codemirror_mode": {
    "name": "ipython",
    "version": 3
   },
   "file_extension": ".py",
   "mimetype": "text/x-python",
   "name": "python",
   "nbconvert_exporter": "python",
   "pygments_lexer": "ipython3",
   "version": "3.10.5"
  }
 },
 "nbformat": 4,
 "nbformat_minor": 5
}
